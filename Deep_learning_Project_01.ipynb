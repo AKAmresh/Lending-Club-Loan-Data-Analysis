{
 "cells": [
  {
   "cell_type": "markdown",
   "metadata": {},
   "source": [
    "# Project - Lending Club Loan Data Analysis"
   ]
  },
  {
   "cell_type": "markdown",
   "metadata": {},
   "source": [
    "### Tasks:"
   ]
  },
  {
   "cell_type": "raw",
   "metadata": {},
   "source": [
    "1.     Feature Transformation\n",
    "\n",
    "       Transform categorical values into numerical values (discrete)\n",
    "\n",
    "2.     Exploratory data analysis of different factors of the dataset.\n",
    "\n",
    "3.     Additional Feature Engineering\n",
    "\n",
    "       You will check the correlation between features and will drop those features which have a strong correlation\n",
    "\n",
    "       This will help reduce the number of features and will leave you with the most relevant features\n",
    "\n",
    "4.     Modeling\n",
    "\n",
    "       After applying EDA and feature engineering, you are now ready to build the predictive models\n",
    "\n",
    "       In this part, you will create a deep learning model using Keras with Tensorflow backend"
   ]
  },
  {
   "cell_type": "code",
   "execution_count": 1,
   "metadata": {
    "id": "-hAgAYBK85tv"
   },
   "outputs": [],
   "source": [
    "import numpy as np\n",
    "import pandas as pd\n",
    "import matplotlib.pyplot as plt\n",
    "import seaborn as sns"
   ]
  },
  {
   "cell_type": "code",
   "execution_count": 2,
   "metadata": {
    "id": "SbHjaioA-M3a"
   },
   "outputs": [],
   "source": [
    "df = pd.read_csv('Assesment-1-load-loan-data/loan_data.csv')"
   ]
  },
  {
   "cell_type": "code",
   "execution_count": 3,
   "metadata": {
    "colab": {
     "base_uri": "https://localhost:8080/"
    },
    "id": "N9JAOf3V-Y4x",
    "outputId": "6748cfaa-1d42-42a1-e426-e6d1e99bc06c"
   },
   "outputs": [
    {
     "data": {
      "text/plain": [
       "(9578, 14)"
      ]
     },
     "execution_count": 3,
     "metadata": {},
     "output_type": "execute_result"
    }
   ],
   "source": [
    "df.shape"
   ]
  },
  {
   "cell_type": "code",
   "execution_count": 4,
   "metadata": {
    "colab": {
     "base_uri": "https://localhost:8080/",
     "height": 270
    },
    "id": "vS77oKlI-cUR",
    "outputId": "7fa91f5a-305b-456e-edb1-c193d4d12a3b"
   },
   "outputs": [
    {
     "data": {
      "text/html": [
       "<div>\n",
       "<style scoped>\n",
       "    .dataframe tbody tr th:only-of-type {\n",
       "        vertical-align: middle;\n",
       "    }\n",
       "\n",
       "    .dataframe tbody tr th {\n",
       "        vertical-align: top;\n",
       "    }\n",
       "\n",
       "    .dataframe thead th {\n",
       "        text-align: right;\n",
       "    }\n",
       "</style>\n",
       "<table border=\"1\" class=\"dataframe\">\n",
       "  <thead>\n",
       "    <tr style=\"text-align: right;\">\n",
       "      <th></th>\n",
       "      <th>credit.policy</th>\n",
       "      <th>purpose</th>\n",
       "      <th>int.rate</th>\n",
       "      <th>installment</th>\n",
       "      <th>log.annual.inc</th>\n",
       "      <th>dti</th>\n",
       "      <th>fico</th>\n",
       "      <th>days.with.cr.line</th>\n",
       "      <th>revol.bal</th>\n",
       "      <th>revol.util</th>\n",
       "      <th>inq.last.6mths</th>\n",
       "      <th>delinq.2yrs</th>\n",
       "      <th>pub.rec</th>\n",
       "      <th>not.fully.paid</th>\n",
       "    </tr>\n",
       "  </thead>\n",
       "  <tbody>\n",
       "    <tr>\n",
       "      <th>0</th>\n",
       "      <td>1</td>\n",
       "      <td>debt_consolidation</td>\n",
       "      <td>0.1189</td>\n",
       "      <td>829.10</td>\n",
       "      <td>11.350407</td>\n",
       "      <td>19.48</td>\n",
       "      <td>737</td>\n",
       "      <td>5639.958333</td>\n",
       "      <td>28854</td>\n",
       "      <td>52.1</td>\n",
       "      <td>0</td>\n",
       "      <td>0</td>\n",
       "      <td>0</td>\n",
       "      <td>0</td>\n",
       "    </tr>\n",
       "    <tr>\n",
       "      <th>1</th>\n",
       "      <td>1</td>\n",
       "      <td>credit_card</td>\n",
       "      <td>0.1071</td>\n",
       "      <td>228.22</td>\n",
       "      <td>11.082143</td>\n",
       "      <td>14.29</td>\n",
       "      <td>707</td>\n",
       "      <td>2760.000000</td>\n",
       "      <td>33623</td>\n",
       "      <td>76.7</td>\n",
       "      <td>0</td>\n",
       "      <td>0</td>\n",
       "      <td>0</td>\n",
       "      <td>0</td>\n",
       "    </tr>\n",
       "    <tr>\n",
       "      <th>2</th>\n",
       "      <td>1</td>\n",
       "      <td>debt_consolidation</td>\n",
       "      <td>0.1357</td>\n",
       "      <td>366.86</td>\n",
       "      <td>10.373491</td>\n",
       "      <td>11.63</td>\n",
       "      <td>682</td>\n",
       "      <td>4710.000000</td>\n",
       "      <td>3511</td>\n",
       "      <td>25.6</td>\n",
       "      <td>1</td>\n",
       "      <td>0</td>\n",
       "      <td>0</td>\n",
       "      <td>0</td>\n",
       "    </tr>\n",
       "    <tr>\n",
       "      <th>3</th>\n",
       "      <td>1</td>\n",
       "      <td>debt_consolidation</td>\n",
       "      <td>0.1008</td>\n",
       "      <td>162.34</td>\n",
       "      <td>11.350407</td>\n",
       "      <td>8.10</td>\n",
       "      <td>712</td>\n",
       "      <td>2699.958333</td>\n",
       "      <td>33667</td>\n",
       "      <td>73.2</td>\n",
       "      <td>1</td>\n",
       "      <td>0</td>\n",
       "      <td>0</td>\n",
       "      <td>0</td>\n",
       "    </tr>\n",
       "    <tr>\n",
       "      <th>4</th>\n",
       "      <td>1</td>\n",
       "      <td>credit_card</td>\n",
       "      <td>0.1426</td>\n",
       "      <td>102.92</td>\n",
       "      <td>11.299732</td>\n",
       "      <td>14.97</td>\n",
       "      <td>667</td>\n",
       "      <td>4066.000000</td>\n",
       "      <td>4740</td>\n",
       "      <td>39.5</td>\n",
       "      <td>0</td>\n",
       "      <td>1</td>\n",
       "      <td>0</td>\n",
       "      <td>0</td>\n",
       "    </tr>\n",
       "  </tbody>\n",
       "</table>\n",
       "</div>"
      ],
      "text/plain": [
       "   credit.policy             purpose  int.rate  installment  log.annual.inc  \\\n",
       "0              1  debt_consolidation    0.1189       829.10       11.350407   \n",
       "1              1         credit_card    0.1071       228.22       11.082143   \n",
       "2              1  debt_consolidation    0.1357       366.86       10.373491   \n",
       "3              1  debt_consolidation    0.1008       162.34       11.350407   \n",
       "4              1         credit_card    0.1426       102.92       11.299732   \n",
       "\n",
       "     dti  fico  days.with.cr.line  revol.bal  revol.util  inq.last.6mths  \\\n",
       "0  19.48   737        5639.958333      28854        52.1               0   \n",
       "1  14.29   707        2760.000000      33623        76.7               0   \n",
       "2  11.63   682        4710.000000       3511        25.6               1   \n",
       "3   8.10   712        2699.958333      33667        73.2               1   \n",
       "4  14.97   667        4066.000000       4740        39.5               0   \n",
       "\n",
       "   delinq.2yrs  pub.rec  not.fully.paid  \n",
       "0            0        0               0  \n",
       "1            0        0               0  \n",
       "2            0        0               0  \n",
       "3            0        0               0  \n",
       "4            1        0               0  "
      ]
     },
     "execution_count": 4,
     "metadata": {},
     "output_type": "execute_result"
    }
   ],
   "source": [
    "df.head()"
   ]
  },
  {
   "cell_type": "code",
   "execution_count": 5,
   "metadata": {
    "colab": {
     "base_uri": "https://localhost:8080/"
    },
    "id": "dSM65r39-gFK",
    "outputId": "86530b88-61c9-46e6-b1a2-473af18b615e"
   },
   "outputs": [
    {
     "data": {
      "text/plain": [
       "<bound method DataFrame.info of       credit.policy             purpose  int.rate  installment  \\\n",
       "0                 1  debt_consolidation    0.1189       829.10   \n",
       "1                 1         credit_card    0.1071       228.22   \n",
       "2                 1  debt_consolidation    0.1357       366.86   \n",
       "3                 1  debt_consolidation    0.1008       162.34   \n",
       "4                 1         credit_card    0.1426       102.92   \n",
       "...             ...                 ...       ...          ...   \n",
       "9573              0           all_other    0.1461       344.76   \n",
       "9574              0           all_other    0.1253       257.70   \n",
       "9575              0  debt_consolidation    0.1071        97.81   \n",
       "9576              0    home_improvement    0.1600       351.58   \n",
       "9577              0  debt_consolidation    0.1392       853.43   \n",
       "\n",
       "      log.annual.inc    dti  fico  days.with.cr.line  revol.bal  revol.util  \\\n",
       "0          11.350407  19.48   737        5639.958333      28854        52.1   \n",
       "1          11.082143  14.29   707        2760.000000      33623        76.7   \n",
       "2          10.373491  11.63   682        4710.000000       3511        25.6   \n",
       "3          11.350407   8.10   712        2699.958333      33667        73.2   \n",
       "4          11.299732  14.97   667        4066.000000       4740        39.5   \n",
       "...              ...    ...   ...                ...        ...         ...   \n",
       "9573       12.180755  10.39   672       10474.000000     215372        82.1   \n",
       "9574       11.141862   0.21   722        4380.000000        184         1.1   \n",
       "9575       10.596635  13.09   687        3450.041667      10036        82.9   \n",
       "9576       10.819778  19.18   692        1800.000000          0         3.2   \n",
       "9577       11.264464  16.28   732        4740.000000      37879        57.0   \n",
       "\n",
       "      inq.last.6mths  delinq.2yrs  pub.rec  not.fully.paid  \n",
       "0                  0            0        0               0  \n",
       "1                  0            0        0               0  \n",
       "2                  1            0        0               0  \n",
       "3                  1            0        0               0  \n",
       "4                  0            1        0               0  \n",
       "...              ...          ...      ...             ...  \n",
       "9573               2            0        0               1  \n",
       "9574               5            0        0               1  \n",
       "9575               8            0        0               1  \n",
       "9576               5            0        0               1  \n",
       "9577               6            0        0               1  \n",
       "\n",
       "[9578 rows x 14 columns]>"
      ]
     },
     "execution_count": 5,
     "metadata": {},
     "output_type": "execute_result"
    }
   ],
   "source": [
    "df.info"
   ]
  },
  {
   "cell_type": "code",
   "execution_count": 6,
   "metadata": {
    "colab": {
     "base_uri": "https://localhost:8080/",
     "height": 364
    },
    "id": "OA3S-Mnp_TWt",
    "outputId": "56428c38-abf3-49d3-ba83-749439a256c9"
   },
   "outputs": [
    {
     "data": {
      "text/html": [
       "<div>\n",
       "<style scoped>\n",
       "    .dataframe tbody tr th:only-of-type {\n",
       "        vertical-align: middle;\n",
       "    }\n",
       "\n",
       "    .dataframe tbody tr th {\n",
       "        vertical-align: top;\n",
       "    }\n",
       "\n",
       "    .dataframe thead th {\n",
       "        text-align: right;\n",
       "    }\n",
       "</style>\n",
       "<table border=\"1\" class=\"dataframe\">\n",
       "  <thead>\n",
       "    <tr style=\"text-align: right;\">\n",
       "      <th></th>\n",
       "      <th>credit.policy</th>\n",
       "      <th>int.rate</th>\n",
       "      <th>installment</th>\n",
       "      <th>log.annual.inc</th>\n",
       "      <th>dti</th>\n",
       "      <th>fico</th>\n",
       "      <th>days.with.cr.line</th>\n",
       "      <th>revol.bal</th>\n",
       "      <th>revol.util</th>\n",
       "      <th>inq.last.6mths</th>\n",
       "      <th>delinq.2yrs</th>\n",
       "      <th>pub.rec</th>\n",
       "      <th>not.fully.paid</th>\n",
       "    </tr>\n",
       "  </thead>\n",
       "  <tbody>\n",
       "    <tr>\n",
       "      <th>count</th>\n",
       "      <td>9578.000000</td>\n",
       "      <td>9578.000000</td>\n",
       "      <td>9578.000000</td>\n",
       "      <td>9578.000000</td>\n",
       "      <td>9578.000000</td>\n",
       "      <td>9578.000000</td>\n",
       "      <td>9578.000000</td>\n",
       "      <td>9.578000e+03</td>\n",
       "      <td>9578.000000</td>\n",
       "      <td>9578.000000</td>\n",
       "      <td>9578.000000</td>\n",
       "      <td>9578.000000</td>\n",
       "      <td>9578.000000</td>\n",
       "    </tr>\n",
       "    <tr>\n",
       "      <th>mean</th>\n",
       "      <td>0.804970</td>\n",
       "      <td>0.122640</td>\n",
       "      <td>319.089413</td>\n",
       "      <td>10.932117</td>\n",
       "      <td>12.606679</td>\n",
       "      <td>710.846314</td>\n",
       "      <td>4560.767197</td>\n",
       "      <td>1.691396e+04</td>\n",
       "      <td>46.799236</td>\n",
       "      <td>1.577469</td>\n",
       "      <td>0.163708</td>\n",
       "      <td>0.062122</td>\n",
       "      <td>0.160054</td>\n",
       "    </tr>\n",
       "    <tr>\n",
       "      <th>std</th>\n",
       "      <td>0.396245</td>\n",
       "      <td>0.026847</td>\n",
       "      <td>207.071301</td>\n",
       "      <td>0.614813</td>\n",
       "      <td>6.883970</td>\n",
       "      <td>37.970537</td>\n",
       "      <td>2496.930377</td>\n",
       "      <td>3.375619e+04</td>\n",
       "      <td>29.014417</td>\n",
       "      <td>2.200245</td>\n",
       "      <td>0.546215</td>\n",
       "      <td>0.262126</td>\n",
       "      <td>0.366676</td>\n",
       "    </tr>\n",
       "    <tr>\n",
       "      <th>min</th>\n",
       "      <td>0.000000</td>\n",
       "      <td>0.060000</td>\n",
       "      <td>15.670000</td>\n",
       "      <td>7.547502</td>\n",
       "      <td>0.000000</td>\n",
       "      <td>612.000000</td>\n",
       "      <td>178.958333</td>\n",
       "      <td>0.000000e+00</td>\n",
       "      <td>0.000000</td>\n",
       "      <td>0.000000</td>\n",
       "      <td>0.000000</td>\n",
       "      <td>0.000000</td>\n",
       "      <td>0.000000</td>\n",
       "    </tr>\n",
       "    <tr>\n",
       "      <th>25%</th>\n",
       "      <td>1.000000</td>\n",
       "      <td>0.103900</td>\n",
       "      <td>163.770000</td>\n",
       "      <td>10.558414</td>\n",
       "      <td>7.212500</td>\n",
       "      <td>682.000000</td>\n",
       "      <td>2820.000000</td>\n",
       "      <td>3.187000e+03</td>\n",
       "      <td>22.600000</td>\n",
       "      <td>0.000000</td>\n",
       "      <td>0.000000</td>\n",
       "      <td>0.000000</td>\n",
       "      <td>0.000000</td>\n",
       "    </tr>\n",
       "    <tr>\n",
       "      <th>50%</th>\n",
       "      <td>1.000000</td>\n",
       "      <td>0.122100</td>\n",
       "      <td>268.950000</td>\n",
       "      <td>10.928884</td>\n",
       "      <td>12.665000</td>\n",
       "      <td>707.000000</td>\n",
       "      <td>4139.958333</td>\n",
       "      <td>8.596000e+03</td>\n",
       "      <td>46.300000</td>\n",
       "      <td>1.000000</td>\n",
       "      <td>0.000000</td>\n",
       "      <td>0.000000</td>\n",
       "      <td>0.000000</td>\n",
       "    </tr>\n",
       "    <tr>\n",
       "      <th>75%</th>\n",
       "      <td>1.000000</td>\n",
       "      <td>0.140700</td>\n",
       "      <td>432.762500</td>\n",
       "      <td>11.291293</td>\n",
       "      <td>17.950000</td>\n",
       "      <td>737.000000</td>\n",
       "      <td>5730.000000</td>\n",
       "      <td>1.824950e+04</td>\n",
       "      <td>70.900000</td>\n",
       "      <td>2.000000</td>\n",
       "      <td>0.000000</td>\n",
       "      <td>0.000000</td>\n",
       "      <td>0.000000</td>\n",
       "    </tr>\n",
       "    <tr>\n",
       "      <th>max</th>\n",
       "      <td>1.000000</td>\n",
       "      <td>0.216400</td>\n",
       "      <td>940.140000</td>\n",
       "      <td>14.528354</td>\n",
       "      <td>29.960000</td>\n",
       "      <td>827.000000</td>\n",
       "      <td>17639.958330</td>\n",
       "      <td>1.207359e+06</td>\n",
       "      <td>119.000000</td>\n",
       "      <td>33.000000</td>\n",
       "      <td>13.000000</td>\n",
       "      <td>5.000000</td>\n",
       "      <td>1.000000</td>\n",
       "    </tr>\n",
       "  </tbody>\n",
       "</table>\n",
       "</div>"
      ],
      "text/plain": [
       "       credit.policy     int.rate  installment  log.annual.inc          dti  \\\n",
       "count    9578.000000  9578.000000  9578.000000     9578.000000  9578.000000   \n",
       "mean        0.804970     0.122640   319.089413       10.932117    12.606679   \n",
       "std         0.396245     0.026847   207.071301        0.614813     6.883970   \n",
       "min         0.000000     0.060000    15.670000        7.547502     0.000000   \n",
       "25%         1.000000     0.103900   163.770000       10.558414     7.212500   \n",
       "50%         1.000000     0.122100   268.950000       10.928884    12.665000   \n",
       "75%         1.000000     0.140700   432.762500       11.291293    17.950000   \n",
       "max         1.000000     0.216400   940.140000       14.528354    29.960000   \n",
       "\n",
       "              fico  days.with.cr.line     revol.bal   revol.util  \\\n",
       "count  9578.000000        9578.000000  9.578000e+03  9578.000000   \n",
       "mean    710.846314        4560.767197  1.691396e+04    46.799236   \n",
       "std      37.970537        2496.930377  3.375619e+04    29.014417   \n",
       "min     612.000000         178.958333  0.000000e+00     0.000000   \n",
       "25%     682.000000        2820.000000  3.187000e+03    22.600000   \n",
       "50%     707.000000        4139.958333  8.596000e+03    46.300000   \n",
       "75%     737.000000        5730.000000  1.824950e+04    70.900000   \n",
       "max     827.000000       17639.958330  1.207359e+06   119.000000   \n",
       "\n",
       "       inq.last.6mths  delinq.2yrs      pub.rec  not.fully.paid  \n",
       "count     9578.000000  9578.000000  9578.000000     9578.000000  \n",
       "mean         1.577469     0.163708     0.062122        0.160054  \n",
       "std          2.200245     0.546215     0.262126        0.366676  \n",
       "min          0.000000     0.000000     0.000000        0.000000  \n",
       "25%          0.000000     0.000000     0.000000        0.000000  \n",
       "50%          1.000000     0.000000     0.000000        0.000000  \n",
       "75%          2.000000     0.000000     0.000000        0.000000  \n",
       "max         33.000000    13.000000     5.000000        1.000000  "
      ]
     },
     "execution_count": 6,
     "metadata": {},
     "output_type": "execute_result"
    }
   ],
   "source": [
    "df.describe()"
   ]
  },
  {
   "cell_type": "code",
   "execution_count": 7,
   "metadata": {
    "colab": {
     "base_uri": "https://localhost:8080/"
    },
    "id": "bO38SRdX_Xk5",
    "outputId": "3eac8980-0f43-4293-ce2b-ae5f3d932467"
   },
   "outputs": [
    {
     "data": {
      "text/plain": [
       "credit.policy        False\n",
       "purpose              False\n",
       "int.rate             False\n",
       "installment          False\n",
       "log.annual.inc       False\n",
       "dti                  False\n",
       "fico                 False\n",
       "days.with.cr.line    False\n",
       "revol.bal            False\n",
       "revol.util           False\n",
       "inq.last.6mths       False\n",
       "delinq.2yrs          False\n",
       "pub.rec              False\n",
       "not.fully.paid       False\n",
       "dtype: bool"
      ]
     },
     "execution_count": 7,
     "metadata": {},
     "output_type": "execute_result"
    }
   ],
   "source": [
    "df.isnull().any()"
   ]
  },
  {
   "cell_type": "markdown",
   "metadata": {},
   "source": [
    "# step-1 - Feature Transformation"
   ]
  },
  {
   "cell_type": "code",
   "execution_count": 8,
   "metadata": {
    "colab": {
     "base_uri": "https://localhost:8080/"
    },
    "id": "oRk8HysM_ep5",
    "outputId": "4cb49e8d-5d00-4656-9db1-90e27b7bb226"
   },
   "outputs": [
    {
     "data": {
      "text/plain": [
       "0    8045\n",
       "1    1533\n",
       "Name: not.fully.paid, dtype: int64"
      ]
     },
     "execution_count": 8,
     "metadata": {},
     "output_type": "execute_result"
    }
   ],
   "source": [
    "df['not.fully.paid'].value_counts()"
   ]
  },
  {
   "cell_type": "code",
   "execution_count": 9,
   "metadata": {
    "colab": {
     "base_uri": "https://localhost:8080/",
     "height": 279
    },
    "id": "2ktspX4f_-Vi",
    "outputId": "ae81d828-b215-4638-8d3b-4b976af23727"
   },
   "outputs": [
    {
     "data": {
      "image/png": "[encoded data removed]",
      "text/plain": [
       "<Figure size 640x480 with 1 Axes>"
      ]
     },
     "metadata": {},
     "output_type": "display_data"
    }
   ],
   "source": [
    "sns.countplot(x=df['not.fully.paid'])\n",
    "plt.show()"
   ]
  },
  {
   "cell_type": "code",
   "execution_count": 10,
   "metadata": {
    "colab": {
     "base_uri": "https://localhost:8080/",
     "height": 462
    },
    "id": "Cmo6uRy4AwcJ",
    "outputId": "c95fc2d1-6a41-49a2-96c9-c4a81bfa79a4"
   },
   "outputs": [
    {
     "data": {
      "text/plain": [
       "<AxesSubplot:xlabel='purpose', ylabel='count'>"
      ]
     },
     "execution_count": 10,
     "metadata": {},
     "output_type": "execute_result"
    },
    {
     "data": {
      "image/png": "[encoded data removed]",
      "text/plain": [
       "<Figure size 1100x700 with 1 Axes>"
      ]
     },
     "metadata": {},
     "output_type": "display_data"
    }
   ],
   "source": [
    "plt.figure(figsize=(11,7))\n",
    "sns.countplot(x='purpose',hue='not.fully.paid',data=df)"
   ]
  },
  {
   "cell_type": "code",
   "execution_count": 20,
   "metadata": {
    "colab": {
     "base_uri": "https://localhost:8080/",
     "height": 458
    },
    "id": "xj-pFhsQB2-o",
    "outputId": "7490ecbf-7389-440c-fb9c-083df44437ae"
   },
   "outputs": [
    {
     "data": {
      "text/plain": [
       "<seaborn.axisgrid.JointGrid at 0x19bb10f44f0>"
      ]
     },
     "execution_count": 20,
     "metadata": {},
     "output_type": "execute_result"
    },
    {
     "data": {
      "image/png": "[encoded data removed]",
      "text/plain": [
       "<Figure size 600x600 with 3 Axes>"
      ]
     },
     "metadata": {},
     "output_type": "display_data"
    }
   ],
   "source": [
    "sns.jointplot(x='fico',y='int.rate',data=df)"
   ]
  },
  {
   "cell_type": "code",
   "execution_count": 21,
   "metadata": {
    "colab": {
     "base_uri": "https://localhost:8080/",
     "height": 345
    },
    "id": "T78VOEgDCddI",
    "outputId": "ce727227-1107-417b-e002-c3f2de672370"
   },
   "outputs": [],
   "source": [
    "#sns.set_theme(style=\"darkgrid\")\n",
    "# Plot the responses for different events and regions\n",
    "#sns.lineplot(x=\"timepoint\", y=\"signal\",\n",
    "#             hue=\"not.fully.paid\", style=\"event\",\n",
    " #            data=df)"
   ]
  },
  {
   "cell_type": "markdown",
   "metadata": {},
   "source": [
    "# step-2 - Exploratory data analysis of different factors of the dataset"
   ]
  },
  {
   "cell_type": "markdown",
   "metadata": {
    "id": "IbZsw00VTiKN"
   },
   "source": [
    "### Handeling imbalanced dataset"
   ]
  },
  {
   "cell_type": "code",
   "execution_count": 22,
   "metadata": {
    "id": "5iCvKO49Dgvs"
   },
   "outputs": [],
   "source": [
    "\n",
    "not_fully_paid_0=df[df['not.fully.paid']==0]\n",
    "not_fully_paid_1=df[df['not.fully.paid']==1]"
   ]
  },
  {
   "cell_type": "code",
   "execution_count": 23,
   "metadata": {
    "colab": {
     "base_uri": "https://localhost:8080/"
    },
    "id": "uwaObLDzD9R7",
    "outputId": "9516ba0f-dc27-438b-ceec-a5b3c69a4a01"
   },
   "outputs": [
    {
     "data": {
      "text/plain": [
       "(8045, 14)"
      ]
     },
     "execution_count": 23,
     "metadata": {},
     "output_type": "execute_result"
    }
   ],
   "source": [
    "not_fully_paid_0.shape"
   ]
  },
  {
   "cell_type": "code",
   "execution_count": 24,
   "metadata": {
    "colab": {
     "base_uri": "https://localhost:8080/"
    },
    "id": "p757AWuaEAFO",
    "outputId": "95a5a6d2-482f-4f88-aab2-f21451b86eb4"
   },
   "outputs": [
    {
     "data": {
      "text/plain": [
       "(1533, 14)"
      ]
     },
     "execution_count": 24,
     "metadata": {},
     "output_type": "execute_result"
    }
   ],
   "source": [
    "not_fully_paid_1.shape"
   ]
  },
  {
   "cell_type": "code",
   "execution_count": 25,
   "metadata": {
    "id": "58Tx0J-WEGpd"
   },
   "outputs": [],
   "source": [
    "#resample\n",
    "from sklearn.utils import resample\n",
    "df_minor_upsampled=resample(not_fully_paid_1,replace=True,n_samples=8045)\n",
    "new_df=pd.concat([not_fully_paid_0,df_minor_upsampled])\n",
    "\n",
    "from sklearn.utils import shuffle\n",
    "new_df=shuffle(new_df)"
   ]
  },
  {
   "cell_type": "code",
   "execution_count": 26,
   "metadata": {
    "colab": {
     "base_uri": "https://localhost:8080/"
    },
    "id": "JC5oWwjaFeGl",
    "outputId": "a17590e8-6b73-4a52-d316-dcb867b3e470"
   },
   "outputs": [
    {
     "data": {
      "text/plain": [
       "0    8045\n",
       "1    8045\n",
       "Name: not.fully.paid, dtype: int64"
      ]
     },
     "execution_count": 26,
     "metadata": {},
     "output_type": "execute_result"
    }
   ],
   "source": [
    "new_df['not.fully.paid'].value_counts()"
   ]
  },
  {
   "cell_type": "code",
   "execution_count": 27,
   "metadata": {
    "colab": {
     "base_uri": "https://localhost:8080/"
    },
    "id": "xagZOCqHFrll",
    "outputId": "56b253b8-a039-48b2-f33d-0be7834ce2b0"
   },
   "outputs": [
    {
     "data": {
      "text/plain": [
       "(16090, 14)"
      ]
     },
     "execution_count": 27,
     "metadata": {},
     "output_type": "execute_result"
    }
   ],
   "source": [
    "new_df.shape"
   ]
  },
  {
   "cell_type": "code",
   "execution_count": 28,
   "metadata": {
    "id": "ZuIDN3SuGH3C"
   },
   "outputs": [],
   "source": [
    "#Apply label encoding for categorical features\n",
    "from sklearn.preprocessing import LabelEncoder\n",
    "lr=LabelEncoder()\n",
    "\n",
    "for i in new_df.columns:\n",
    "  if new_df[i].dtypes=='object':\n",
    "    new_df[i]=lr.fit_transform(new_df[i])"
   ]
  },
  {
   "cell_type": "code",
   "execution_count": 29,
   "metadata": {
    "colab": {
     "base_uri": "https://localhost:8080/"
    },
    "id": "3dizl5mnHeJT",
    "outputId": "6d607f5d-148e-4c87-d025-63ffdaa973c9"
   },
   "outputs": [
    {
     "data": {
      "text/plain": [
       "credit.policy          int64\n",
       "purpose                int32\n",
       "int.rate             float64\n",
       "installment          float64\n",
       "log.annual.inc       float64\n",
       "dti                  float64\n",
       "fico                   int64\n",
       "days.with.cr.line    float64\n",
       "revol.bal              int64\n",
       "revol.util           float64\n",
       "inq.last.6mths         int64\n",
       "delinq.2yrs            int64\n",
       "pub.rec                int64\n",
       "not.fully.paid         int64\n",
       "dtype: object"
      ]
     },
     "execution_count": 29,
     "metadata": {},
     "output_type": "execute_result"
    }
   ],
   "source": [
    "new_df.dtypes"
   ]
  },
  {
   "cell_type": "markdown",
   "metadata": {
    "id": "GRwCRBxWTXDV"
   },
   "source": [
    "# step-3 Additional Feature Engineering"
   ]
  },
  {
   "cell_type": "code",
   "execution_count": 30,
   "metadata": {
    "colab": {
     "base_uri": "https://localhost:8080/"
    },
    "id": "brMe6oWYICxu",
    "outputId": "f99fa52a-c89c-46bb-e65a-0bcb6cc77080"
   },
   "outputs": [
    {
     "data": {
      "text/plain": [
       "not.fully.paid       1.000000\n",
       "int.rate             0.217216\n",
       "fico                 0.212468\n",
       "credit.policy        0.191574\n",
       "inq.last.6mths       0.178498\n",
       "revol.util           0.106537\n",
       "installment          0.074507\n",
       "pub.rec              0.063867\n",
       "purpose              0.062956\n",
       "revol.bal            0.062303\n",
       "dti                  0.048493\n",
       "days.with.cr.line    0.038619\n",
       "log.annual.inc       0.035229\n",
       "delinq.2yrs          0.009259\n",
       "Name: not.fully.paid, dtype: float64"
      ]
     },
     "execution_count": 30,
     "metadata": {},
     "output_type": "execute_result"
    }
   ],
   "source": [
    "new_df.corr().abs()['not.fully.paid'].sort_values(ascending=False)"
   ]
  },
  {
   "cell_type": "code",
   "execution_count": 31,
   "metadata": {
    "colab": {
     "base_uri": "https://localhost:8080/",
     "height": 551
    },
    "id": "FPTJkcwyItUC",
    "outputId": "11f4a732-7cc4-4679-a150-29aff106167e"
   },
   "outputs": [
    {
     "data": {
      "text/plain": [
       "<AxesSubplot:>"
      ]
     },
     "execution_count": 31,
     "metadata": {},
     "output_type": "execute_result"
    },
    {
     "data": {
      "image/png": "[encoded data removed]",
      "text/plain": [
       "<Figure size 1100x700 with 2 Axes>"
      ]
     },
     "metadata": {},
     "output_type": "display_data"
    }
   ],
   "source": [
    "plt.figure(figsize=(11,7))\n",
    "sns.heatmap(new_df.corr(),annot=False)"
   ]
  },
  {
   "cell_type": "code",
   "execution_count": 32,
   "metadata": {
    "id": "3Tu_spZUJGCK"
   },
   "outputs": [],
   "source": [
    "X=new_df[['int.rate','fico','credit.policy','inq.last.6mths','revol.util','installment','purpose','dti','pub.rec']]"
   ]
  },
  {
   "cell_type": "code",
   "execution_count": 33,
   "metadata": {
    "id": "0UqtRlCbKfWc"
   },
   "outputs": [],
   "source": [
    "y=new_df[['not.fully.paid']]"
   ]
  },
  {
   "cell_type": "code",
   "execution_count": 34,
   "metadata": {
    "colab": {
     "base_uri": "https://localhost:8080/"
    },
    "id": "o5OITJaqLLzy",
    "outputId": "eff4d11e-d588-4a80-f390-472dabd47ab1"
   },
   "outputs": [
    {
     "data": {
      "text/plain": [
       "(16090, 9)"
      ]
     },
     "execution_count": 34,
     "metadata": {},
     "output_type": "execute_result"
    }
   ],
   "source": [
    "X.shape"
   ]
  },
  {
   "cell_type": "code",
   "execution_count": 35,
   "metadata": {
    "colab": {
     "base_uri": "https://localhost:8080/"
    },
    "id": "3pExxgK4LOAg",
    "outputId": "76184bd1-78ac-4987-cfbf-78819f74ac04"
   },
   "outputs": [
    {
     "data": {
      "text/plain": [
       "(16090, 1)"
      ]
     },
     "execution_count": 35,
     "metadata": {},
     "output_type": "execute_result"
    }
   ],
   "source": [
    "y.shape"
   ]
  },
  {
   "cell_type": "code",
   "execution_count": 39,
   "metadata": {
    "id": "tjNPlqs8LQ9t"
   },
   "outputs": [],
   "source": [
    "#create train set and test set\n",
    "from sklearn.model_selection import train_test_split\n",
    "X_train,X_test,y_train,y_test=train_test_split(X,y,test_size=0.2,random_state=42)"
   ]
  },
  {
   "cell_type": "code",
   "execution_count": 40,
   "metadata": {
    "id": "kuKo9PuaLxXK"
   },
   "outputs": [],
   "source": [
    "from sklearn.preprocessing import StandardScaler\n",
    "sc=StandardScaler()\n",
    "X_train=sc.fit_transform(X_train)\n",
    "X_test=sc.transform(X_test)"
   ]
  },
  {
   "cell_type": "code",
   "execution_count": 41,
   "metadata": {
    "colab": {
     "base_uri": "https://localhost:8080/"
    },
    "id": "vPtXgpLKMeVz",
    "outputId": "6bf5ce0f-774a-4781-839d-0d8dd71c86c9"
   },
   "outputs": [
    {
     "data": {
      "text/plain": [
       "array([[-0.28899776, -0.49619972,  0.58153662, ..., -1.14664164,\n",
       "         1.35900217, -0.2708304 ],\n",
       "       [-0.31133354,  0.85202564,  0.58153662, ..., -1.14664164,\n",
       "        -1.2426909 , -0.2708304 ],\n",
       "       [-1.96045849,  1.52613832,  0.58153662, ..., -1.14664164,\n",
       "         1.03432927, -0.2708304 ],\n",
       "       ...,\n",
       "       [-0.44162558,  1.25649325,  0.58153662, ..., -0.01028477,\n",
       "        -0.85337073, -0.2708304 ],\n",
       "       [-0.98885214,  0.31273549,  0.58153662, ..., -1.14664164,\n",
       "        -1.10477675,  3.39877896],\n",
       "       [ 0.18377621,  0.04309042,  0.58153662, ..., -0.01028477,\n",
       "        -0.88066624, -0.2708304 ]])"
      ]
     },
     "execution_count": 41,
     "metadata": {},
     "output_type": "execute_result"
    }
   ],
   "source": [
    "X_train"
   ]
  },
  {
   "cell_type": "markdown",
   "metadata": {
    "id": "EBwRXR_3M3j5"
   },
   "source": [
    "# step-4  -  Apply Model Building-ANN"
   ]
  },
  {
   "cell_type": "code",
   "execution_count": 42,
   "metadata": {
    "id": "ZJCBgXYWNBAl"
   },
   "outputs": [],
   "source": [
    "from tensorflow.keras.models import Sequential\n",
    "from tensorflow.keras.layers import Dense,Dropout\n",
    "from tensorflow.keras.callbacks import EarlyStopping"
   ]
  },
  {
   "cell_type": "code",
   "execution_count": 43,
   "metadata": {
    "id": "SNxHzWtBNcfo"
   },
   "outputs": [],
   "source": [
    "model = Sequential()\n",
    "model.add(Dense(19,activation='relu',input_shape=[9]))\n",
    "model.add(Dropout(0.3))\n",
    "model.add(Dense(10,activation='relu'))\n",
    "model.add(Dropout(0.3))\n",
    "\n",
    "#output layer\n",
    "model.add(Dense(1,activation='sigmoid'))"
   ]
  },
  {
   "cell_type": "code",
   "execution_count": 44,
   "metadata": {
    "id": "83Iv9o0eO0iZ"
   },
   "outputs": [],
   "source": [
    "#compile the model\n",
    "model.compile(loss='binary_crossentropy',optimizer='adam',metrics=['accuracy'])"
   ]
  },
  {
   "cell_type": "code",
   "execution_count": 45,
   "metadata": {
    "colab": {
     "base_uri": "https://localhost:8080/"
    },
    "id": "1vCNlSuwPgEV",
    "outputId": "e54d367c-0728-4b0b-cde2-fd791919a592"
   },
   "outputs": [
    {
     "name": "stdout",
     "output_type": "stream",
     "text": [
      "Model: \"sequential\"\n",
      "_________________________________________________________________\n",
      " Layer (type)                Output Shape              Param #   \n",
      "=================================================================\n",
      " dense (Dense)               (None, 19)                190       \n",
      "                                                                 \n",
      " dropout (Dropout)           (None, 19)                0         \n",
      "                                                                 \n",
      " dense_1 (Dense)             (None, 10)                200       \n",
      "                                                                 \n",
      " dropout_1 (Dropout)         (None, 10)                0         \n",
      "                                                                 \n",
      " dense_2 (Dense)             (None, 1)                 11        \n",
      "                                                                 \n",
      "=================================================================\n",
      "Total params: 401\n",
      "Trainable params: 401\n",
      "Non-trainable params: 0\n",
      "_________________________________________________________________\n"
     ]
    }
   ],
   "source": [
    "model.summary()"
   ]
  },
  {
   "cell_type": "code",
   "execution_count": 46,
   "metadata": {
    "id": "2MCP0jPpPrvi"
   },
   "outputs": [],
   "source": [
    "early_stop=EarlyStopping(monitor  = 'val_loss',\n",
    "                         min_delta= 0.01, \n",
    "                         mode     = 'min', \n",
    "                         verbose  = 1,\n",
    "                         patience = 10)"
   ]
  },
  {
   "cell_type": "code",
   "execution_count": 47,
   "metadata": {
    "colab": {
     "base_uri": "https://localhost:8080/"
    },
    "id": "m8v2of9uROWg",
    "outputId": "307c095e-2433-4768-f574-5e9fae5bb77f"
   },
   "outputs": [
    {
     "name": "stdout",
     "output_type": "stream",
     "text": [
      "Epoch 1/100\n",
      "51/51 [==============================] - 1s 4ms/step - loss: 0.8483 - accuracy: 0.5127 - val_loss: 0.7006 - val_accuracy: 0.5292\n",
      "Epoch 2/100\n",
      "51/51 [==============================] - 0s 2ms/step - loss: 0.7039 - accuracy: 0.5552 - val_loss: 0.6710 - val_accuracy: 0.5718\n",
      "Epoch 3/100\n",
      "51/51 [==============================] - 0s 2ms/step - loss: 0.6858 - accuracy: 0.5692 - val_loss: 0.6656 - val_accuracy: 0.5836\n",
      "Epoch 4/100\n",
      "51/51 [==============================] - 0s 2ms/step - loss: 0.6772 - accuracy: 0.5740 - val_loss: 0.6633 - val_accuracy: 0.5976\n",
      "Epoch 5/100\n",
      "51/51 [==============================] - 0s 2ms/step - loss: 0.6710 - accuracy: 0.5879 - val_loss: 0.6624 - val_accuracy: 0.6044\n",
      "Epoch 6/100\n",
      "51/51 [==============================] - 0s 2ms/step - loss: 0.6697 - accuracy: 0.5882 - val_loss: 0.6611 - val_accuracy: 0.6066\n",
      "Epoch 7/100\n",
      "51/51 [==============================] - 0s 2ms/step - loss: 0.6659 - accuracy: 0.5968 - val_loss: 0.6601 - val_accuracy: 0.6085\n",
      "Epoch 8/100\n",
      "51/51 [==============================] - 0s 2ms/step - loss: 0.6644 - accuracy: 0.5977 - val_loss: 0.6595 - val_accuracy: 0.6103\n",
      "Epoch 9/100\n",
      "51/51 [==============================] - 0s 2ms/step - loss: 0.6636 - accuracy: 0.6025 - val_loss: 0.6590 - val_accuracy: 0.6075\n",
      "Epoch 10/100\n",
      "51/51 [==============================] - 0s 2ms/step - loss: 0.6611 - accuracy: 0.6028 - val_loss: 0.6587 - val_accuracy: 0.6075\n",
      "Epoch 11/100\n",
      "51/51 [==============================] - 0s 2ms/step - loss: 0.6609 - accuracy: 0.5994 - val_loss: 0.6583 - val_accuracy: 0.6038\n",
      "Epoch 12/100\n",
      "51/51 [==============================] - 0s 2ms/step - loss: 0.6588 - accuracy: 0.6028 - val_loss: 0.6575 - val_accuracy: 0.6038\n",
      "Epoch 13/100\n",
      "51/51 [==============================] - 0s 2ms/step - loss: 0.6572 - accuracy: 0.6107 - val_loss: 0.6573 - val_accuracy: 0.6032\n",
      "Epoch 14/100\n",
      "51/51 [==============================] - 0s 2ms/step - loss: 0.6576 - accuracy: 0.6114 - val_loss: 0.6563 - val_accuracy: 0.6038\n",
      "Epoch 15/100\n",
      "51/51 [==============================] - 0s 2ms/step - loss: 0.6557 - accuracy: 0.6146 - val_loss: 0.6564 - val_accuracy: 0.6025\n",
      "Epoch 16/100\n",
      "51/51 [==============================] - 0s 2ms/step - loss: 0.6577 - accuracy: 0.6082 - val_loss: 0.6563 - val_accuracy: 0.6057\n",
      "Epoch 17/100\n",
      "51/51 [==============================] - 0s 2ms/step - loss: 0.6552 - accuracy: 0.6126 - val_loss: 0.6557 - val_accuracy: 0.6044\n",
      "Epoch 18/100\n",
      "51/51 [==============================] - 0s 2ms/step - loss: 0.6545 - accuracy: 0.6119 - val_loss: 0.6550 - val_accuracy: 0.6047\n",
      "Epoch 19/100\n",
      "51/51 [==============================] - 0s 2ms/step - loss: 0.6532 - accuracy: 0.6121 - val_loss: 0.6545 - val_accuracy: 0.6060\n",
      "Epoch 20/100\n",
      "51/51 [==============================] - 0s 2ms/step - loss: 0.6548 - accuracy: 0.6155 - val_loss: 0.6545 - val_accuracy: 0.6050\n",
      "Epoch 21/100\n",
      "51/51 [==============================] - 0s 2ms/step - loss: 0.6533 - accuracy: 0.6165 - val_loss: 0.6546 - val_accuracy: 0.6066\n",
      "Epoch 22/100\n",
      "51/51 [==============================] - 0s 2ms/step - loss: 0.6534 - accuracy: 0.6186 - val_loss: 0.6544 - val_accuracy: 0.6091\n",
      "Epoch 23/100\n",
      "51/51 [==============================] - 0s 2ms/step - loss: 0.6544 - accuracy: 0.6123 - val_loss: 0.6541 - val_accuracy: 0.6091\n",
      "Epoch 24/100\n",
      "51/51 [==============================] - 0s 2ms/step - loss: 0.6544 - accuracy: 0.6152 - val_loss: 0.6539 - val_accuracy: 0.6085\n",
      "Epoch 25/100\n",
      "51/51 [==============================] - 0s 2ms/step - loss: 0.6501 - accuracy: 0.6173 - val_loss: 0.6535 - val_accuracy: 0.6081\n",
      "Epoch 26/100\n",
      "51/51 [==============================] - 0s 2ms/step - loss: 0.6513 - accuracy: 0.6194 - val_loss: 0.6531 - val_accuracy: 0.6072\n",
      "Epoch 27/100\n",
      "51/51 [==============================] - 0s 2ms/step - loss: 0.6491 - accuracy: 0.6151 - val_loss: 0.6528 - val_accuracy: 0.6069\n",
      "Epoch 28/100\n",
      "51/51 [==============================] - 0s 2ms/step - loss: 0.6480 - accuracy: 0.6175 - val_loss: 0.6523 - val_accuracy: 0.6047\n",
      "Epoch 29/100\n",
      "51/51 [==============================] - 0s 2ms/step - loss: 0.6496 - accuracy: 0.6216 - val_loss: 0.6518 - val_accuracy: 0.6066\n",
      "Epoch 30/100\n",
      "51/51 [==============================] - 0s 2ms/step - loss: 0.6489 - accuracy: 0.6198 - val_loss: 0.6517 - val_accuracy: 0.6057\n",
      "Epoch 31/100\n",
      "51/51 [==============================] - 0s 2ms/step - loss: 0.6501 - accuracy: 0.6194 - val_loss: 0.6520 - val_accuracy: 0.6069\n",
      "Epoch 32/100\n",
      "51/51 [==============================] - 0s 2ms/step - loss: 0.6470 - accuracy: 0.6277 - val_loss: 0.6515 - val_accuracy: 0.6057\n",
      "Epoch 33/100\n",
      "51/51 [==============================] - 0s 2ms/step - loss: 0.6458 - accuracy: 0.6169 - val_loss: 0.6510 - val_accuracy: 0.6075\n",
      "Epoch 34/100\n",
      "51/51 [==============================] - 0s 2ms/step - loss: 0.6467 - accuracy: 0.6221 - val_loss: 0.6507 - val_accuracy: 0.6075\n",
      "Epoch 35/100\n",
      "51/51 [==============================] - 0s 2ms/step - loss: 0.6471 - accuracy: 0.6158 - val_loss: 0.6509 - val_accuracy: 0.6081\n",
      "Epoch 36/100\n",
      "51/51 [==============================] - 0s 2ms/step - loss: 0.6495 - accuracy: 0.6230 - val_loss: 0.6511 - val_accuracy: 0.6047\n",
      "Epoch 37/100\n",
      "51/51 [==============================] - 0s 2ms/step - loss: 0.6466 - accuracy: 0.6209 - val_loss: 0.6508 - val_accuracy: 0.6066\n",
      "Epoch 38/100\n",
      "51/51 [==============================] - 0s 2ms/step - loss: 0.6468 - accuracy: 0.6207 - val_loss: 0.6507 - val_accuracy: 0.6085\n",
      "Epoch 39/100\n",
      "51/51 [==============================] - 0s 2ms/step - loss: 0.6460 - accuracy: 0.6242 - val_loss: 0.6506 - val_accuracy: 0.6088\n",
      "Epoch 40/100\n",
      "51/51 [==============================] - 0s 2ms/step - loss: 0.6436 - accuracy: 0.6276 - val_loss: 0.6502 - val_accuracy: 0.6069\n",
      "Epoch 41/100\n",
      "51/51 [==============================] - 0s 2ms/step - loss: 0.6447 - accuracy: 0.6199 - val_loss: 0.6498 - val_accuracy: 0.6122\n",
      "Epoch 42/100\n",
      "51/51 [==============================] - 0s 2ms/step - loss: 0.6466 - accuracy: 0.6238 - val_loss: 0.6500 - val_accuracy: 0.6125\n",
      "Epoch 43/100\n",
      "51/51 [==============================] - 0s 2ms/step - loss: 0.6440 - accuracy: 0.6200 - val_loss: 0.6496 - val_accuracy: 0.6106\n",
      "Epoch 44/100\n",
      "51/51 [==============================] - 0s 2ms/step - loss: 0.6433 - accuracy: 0.6266 - val_loss: 0.6493 - val_accuracy: 0.6125\n",
      "Epoch 45/100\n",
      "51/51 [==============================] - 0s 2ms/step - loss: 0.6461 - accuracy: 0.6232 - val_loss: 0.6496 - val_accuracy: 0.6159\n",
      "Epoch 46/100\n",
      "51/51 [==============================] - 0s 2ms/step - loss: 0.6456 - accuracy: 0.6194 - val_loss: 0.6493 - val_accuracy: 0.6150\n",
      "Epoch 47/100\n",
      "51/51 [==============================] - 0s 2ms/step - loss: 0.6457 - accuracy: 0.6242 - val_loss: 0.6495 - val_accuracy: 0.6125\n",
      "Epoch 48/100\n",
      "51/51 [==============================] - 0s 2ms/step - loss: 0.6458 - accuracy: 0.6221 - val_loss: 0.6493 - val_accuracy: 0.6153\n",
      "Epoch 49/100\n",
      "51/51 [==============================] - 0s 2ms/step - loss: 0.6454 - accuracy: 0.6231 - val_loss: 0.6495 - val_accuracy: 0.6134\n",
      "Epoch 50/100\n",
      "51/51 [==============================] - 0s 2ms/step - loss: 0.6468 - accuracy: 0.6228 - val_loss: 0.6496 - val_accuracy: 0.6131\n",
      "Epoch 51/100\n",
      "51/51 [==============================] - 0s 2ms/step - loss: 0.6430 - accuracy: 0.6238 - val_loss: 0.6493 - val_accuracy: 0.6112\n",
      "Epoch 52/100\n",
      "51/51 [==============================] - 0s 2ms/step - loss: 0.6401 - accuracy: 0.6266 - val_loss: 0.6489 - val_accuracy: 0.6122\n",
      "Epoch 53/100\n",
      "51/51 [==============================] - 0s 2ms/step - loss: 0.6451 - accuracy: 0.6261 - val_loss: 0.6489 - val_accuracy: 0.6150\n",
      "Epoch 54/100\n",
      "51/51 [==============================] - 0s 2ms/step - loss: 0.6431 - accuracy: 0.6276 - val_loss: 0.6490 - val_accuracy: 0.6168\n",
      "Epoch 55/100\n",
      "51/51 [==============================] - 0s 2ms/step - loss: 0.6449 - accuracy: 0.6238 - val_loss: 0.6490 - val_accuracy: 0.6122\n",
      "Epoch 56/100\n",
      "51/51 [==============================] - 0s 2ms/step - loss: 0.6457 - accuracy: 0.6248 - val_loss: 0.6490 - val_accuracy: 0.6162\n",
      "Epoch 57/100\n",
      "51/51 [==============================] - 0s 2ms/step - loss: 0.6444 - accuracy: 0.6230 - val_loss: 0.6489 - val_accuracy: 0.6175\n",
      "Epoch 58/100\n",
      "51/51 [==============================] - 0s 2ms/step - loss: 0.6440 - accuracy: 0.6276 - val_loss: 0.6492 - val_accuracy: 0.6168\n"
     ]
    },
    {
     "name": "stdout",
     "output_type": "stream",
     "text": [
      "Epoch 59/100\n",
      "51/51 [==============================] - 0s 2ms/step - loss: 0.6443 - accuracy: 0.6246 - val_loss: 0.6492 - val_accuracy: 0.6162\n",
      "Epoch 60/100\n",
      "51/51 [==============================] - 0s 2ms/step - loss: 0.6434 - accuracy: 0.6228 - val_loss: 0.6489 - val_accuracy: 0.6134\n",
      "Epoch 61/100\n",
      "51/51 [==============================] - 0s 2ms/step - loss: 0.6418 - accuracy: 0.6261 - val_loss: 0.6486 - val_accuracy: 0.6153\n",
      "Epoch 62/100\n",
      "51/51 [==============================] - 0s 2ms/step - loss: 0.6454 - accuracy: 0.6238 - val_loss: 0.6489 - val_accuracy: 0.6150\n",
      "Epoch 63/100\n",
      "51/51 [==============================] - 0s 2ms/step - loss: 0.6419 - accuracy: 0.6233 - val_loss: 0.6486 - val_accuracy: 0.6150\n",
      "Epoch 64/100\n",
      "51/51 [==============================] - 0s 2ms/step - loss: 0.6424 - accuracy: 0.6235 - val_loss: 0.6489 - val_accuracy: 0.6144\n",
      "Epoch 65/100\n",
      "51/51 [==============================] - 0s 2ms/step - loss: 0.6409 - accuracy: 0.6325 - val_loss: 0.6484 - val_accuracy: 0.6165\n",
      "Epoch 66/100\n",
      "51/51 [==============================] - 0s 2ms/step - loss: 0.6402 - accuracy: 0.6264 - val_loss: 0.6483 - val_accuracy: 0.6172\n",
      "Epoch 67/100\n",
      "51/51 [==============================] - 0s 2ms/step - loss: 0.6420 - accuracy: 0.6290 - val_loss: 0.6480 - val_accuracy: 0.6147\n",
      "Epoch 68/100\n",
      "51/51 [==============================] - 0s 2ms/step - loss: 0.6426 - accuracy: 0.6269 - val_loss: 0.6480 - val_accuracy: 0.6150\n",
      "Epoch 69/100\n",
      "51/51 [==============================] - 0s 2ms/step - loss: 0.6422 - accuracy: 0.6279 - val_loss: 0.6477 - val_accuracy: 0.6125\n",
      "Epoch 70/100\n",
      "51/51 [==============================] - 0s 2ms/step - loss: 0.6437 - accuracy: 0.6264 - val_loss: 0.6481 - val_accuracy: 0.6153\n",
      "Epoch 71/100\n",
      "51/51 [==============================] - 0s 2ms/step - loss: 0.6405 - accuracy: 0.6262 - val_loss: 0.6479 - val_accuracy: 0.6172\n",
      "Epoch 72/100\n",
      "51/51 [==============================] - 0s 2ms/step - loss: 0.6427 - accuracy: 0.6266 - val_loss: 0.6482 - val_accuracy: 0.6162\n",
      "Epoch 73/100\n",
      "51/51 [==============================] - 0s 2ms/step - loss: 0.6419 - accuracy: 0.6269 - val_loss: 0.6480 - val_accuracy: 0.6144\n",
      "Epoch 74/100\n",
      "51/51 [==============================] - 0s 2ms/step - loss: 0.6412 - accuracy: 0.6268 - val_loss: 0.6477 - val_accuracy: 0.6106\n",
      "Epoch 75/100\n",
      "51/51 [==============================] - 0s 2ms/step - loss: 0.6418 - accuracy: 0.6288 - val_loss: 0.6477 - val_accuracy: 0.6153\n",
      "Epoch 76/100\n",
      "51/51 [==============================] - 0s 2ms/step - loss: 0.6421 - accuracy: 0.6248 - val_loss: 0.6477 - val_accuracy: 0.6144\n",
      "Epoch 77/100\n",
      "51/51 [==============================] - 0s 2ms/step - loss: 0.6420 - accuracy: 0.6300 - val_loss: 0.6479 - val_accuracy: 0.6144\n",
      "Epoch 78/100\n",
      "51/51 [==============================] - 0s 2ms/step - loss: 0.6388 - accuracy: 0.6321 - val_loss: 0.6478 - val_accuracy: 0.6125\n",
      "Epoch 79/100\n",
      "51/51 [==============================] - 0s 2ms/step - loss: 0.6416 - accuracy: 0.6254 - val_loss: 0.6476 - val_accuracy: 0.6147\n",
      "Epoch 80/100\n",
      "51/51 [==============================] - 0s 2ms/step - loss: 0.6402 - accuracy: 0.6310 - val_loss: 0.6474 - val_accuracy: 0.6153\n",
      "Epoch 81/100\n",
      "51/51 [==============================] - 0s 2ms/step - loss: 0.6399 - accuracy: 0.6325 - val_loss: 0.6472 - val_accuracy: 0.6165\n",
      "Epoch 82/100\n",
      "51/51 [==============================] - 0s 2ms/step - loss: 0.6415 - accuracy: 0.6294 - val_loss: 0.6468 - val_accuracy: 0.6159\n",
      "Epoch 83/100\n",
      "51/51 [==============================] - 0s 2ms/step - loss: 0.6409 - accuracy: 0.6318 - val_loss: 0.6468 - val_accuracy: 0.6162\n",
      "Epoch 84/100\n",
      "51/51 [==============================] - 0s 2ms/step - loss: 0.6398 - accuracy: 0.6325 - val_loss: 0.6468 - val_accuracy: 0.6147\n",
      "Epoch 85/100\n",
      "51/51 [==============================] - 0s 2ms/step - loss: 0.6403 - accuracy: 0.6287 - val_loss: 0.6469 - val_accuracy: 0.6137\n",
      "Epoch 86/100\n",
      "51/51 [==============================] - 0s 2ms/step - loss: 0.6402 - accuracy: 0.6338 - val_loss: 0.6469 - val_accuracy: 0.6178\n",
      "Epoch 87/100\n",
      "51/51 [==============================] - 0s 2ms/step - loss: 0.6400 - accuracy: 0.6327 - val_loss: 0.6468 - val_accuracy: 0.6190\n",
      "Epoch 88/100\n",
      "51/51 [==============================] - 0s 2ms/step - loss: 0.6396 - accuracy: 0.6286 - val_loss: 0.6469 - val_accuracy: 0.6184\n",
      "Epoch 89/100\n",
      "51/51 [==============================] - 0s 2ms/step - loss: 0.6406 - accuracy: 0.6307 - val_loss: 0.6466 - val_accuracy: 0.6178\n",
      "Epoch 90/100\n",
      "51/51 [==============================] - 0s 2ms/step - loss: 0.6394 - accuracy: 0.6310 - val_loss: 0.6462 - val_accuracy: 0.6193\n",
      "Epoch 91/100\n",
      "51/51 [==============================] - 0s 2ms/step - loss: 0.6378 - accuracy: 0.6310 - val_loss: 0.6462 - val_accuracy: 0.6178\n",
      "Epoch 92/100\n",
      "51/51 [==============================] - 0s 2ms/step - loss: 0.6410 - accuracy: 0.6282 - val_loss: 0.6463 - val_accuracy: 0.6172\n",
      "Epoch 93/100\n",
      "51/51 [==============================] - 0s 2ms/step - loss: 0.6407 - accuracy: 0.6300 - val_loss: 0.6462 - val_accuracy: 0.6206\n",
      "Epoch 94/100\n",
      "51/51 [==============================] - 0s 2ms/step - loss: 0.6402 - accuracy: 0.6336 - val_loss: 0.6460 - val_accuracy: 0.6200\n",
      "Epoch 95/100\n",
      "51/51 [==============================] - 0s 2ms/step - loss: 0.6402 - accuracy: 0.6335 - val_loss: 0.6455 - val_accuracy: 0.6156\n",
      "Epoch 96/100\n",
      "51/51 [==============================] - 0s 2ms/step - loss: 0.6393 - accuracy: 0.6320 - val_loss: 0.6458 - val_accuracy: 0.6168\n",
      "Epoch 97/100\n",
      "51/51 [==============================] - 0s 3ms/step - loss: 0.6389 - accuracy: 0.6329 - val_loss: 0.6457 - val_accuracy: 0.6218\n",
      "Epoch 98/100\n",
      "51/51 [==============================] - 0s 2ms/step - loss: 0.6399 - accuracy: 0.6250 - val_loss: 0.6459 - val_accuracy: 0.6196\n",
      "Epoch 99/100\n",
      "51/51 [==============================] - 0s 2ms/step - loss: 0.6395 - accuracy: 0.6309 - val_loss: 0.6455 - val_accuracy: 0.6187\n",
      "Epoch 100/100\n",
      "51/51 [==============================] - 0s 2ms/step - loss: 0.6383 - accuracy: 0.6352 - val_loss: 0.6456 - val_accuracy: 0.6200\n"
     ]
    },
    {
     "data": {
      "text/plain": [
       "<keras.callbacks.History at 0x19bbbe1cb80>"
      ]
     },
     "execution_count": 47,
     "metadata": {},
     "output_type": "execute_result"
    }
   ],
   "source": [
    "model.fit(X_train,y_train,\n",
    "          epochs=100,\n",
    "          batch_size=256,\n",
    "          validation_data=(X_test,y_test))\n",
    "          #callbacks=[early_stop])"
   ]
  },
  {
   "cell_type": "markdown",
   "metadata": {
    "id": "wyuY-feCTQie"
   },
   "source": []
  },
  {
   "cell_type": "code",
   "execution_count": 48,
   "metadata": {
    "id": "BYUGPAiXRhwB"
   },
   "outputs": [
    {
     "name": "stdout",
     "output_type": "stream",
     "text": [
      "101/101 [==============================] - 0s 687us/step\n"
     ]
    }
   ],
   "source": [
    "predictions = (model.predict(X_test)>0.5).astype('int32')"
   ]
  },
  {
   "cell_type": "code",
   "execution_count": 49,
   "metadata": {
    "colab": {
     "base_uri": "https://localhost:8080/"
    },
    "id": "yecB0EXpUOx4",
    "outputId": "731d98fa-8e41-4b88-e115-67dfcc98feed"
   },
   "outputs": [
    {
     "data": {
      "text/plain": [
       "array([[0],\n",
       "       [1],\n",
       "       [0],\n",
       "       ...,\n",
       "       [0],\n",
       "       [0],\n",
       "       [0]])"
      ]
     },
     "execution_count": 49,
     "metadata": {},
     "output_type": "execute_result"
    }
   ],
   "source": [
    "predictions"
   ]
  },
  {
   "cell_type": "code",
   "execution_count": 50,
   "metadata": {
    "colab": {
     "base_uri": "https://localhost:8080/"
    },
    "id": "sasTaNVBU0-h",
    "outputId": "763cc4e0-26e4-44c3-9cbc-0432b9d68694"
   },
   "outputs": [
    {
     "name": "stdout",
     "output_type": "stream",
     "text": [
      "[0.0, 0.0]\n"
     ]
    }
   ],
   "source": [
    "score = model.evaluate(X_test,verbose=0)\n",
    "print(score)"
   ]
  },
  {
   "cell_type": "code",
   "execution_count": 51,
   "metadata": {
    "colab": {
     "base_uri": "https://localhost:8080/"
    },
    "id": "26zbE1IdURlb",
    "outputId": "0f011082-ff53-4630-ee75-158bc8a4aea4"
   },
   "outputs": [
    {
     "data": {
      "text/plain": [
       "0.6199502796768179"
      ]
     },
     "execution_count": 51,
     "metadata": {},
     "output_type": "execute_result"
    }
   ],
   "source": [
    "from sklearn.metrics import accuracy_score,confusion_matrix,classification_report\n",
    "accuracy_score(y_test,predictions)"
   ]
  },
  {
   "cell_type": "code",
   "execution_count": 52,
   "metadata": {
    "colab": {
     "base_uri": "https://localhost:8080/"
    },
    "id": "r4xcbadZVE61",
    "outputId": "567e07df-b507-4c1c-b6f4-bb066845e2a7"
   },
   "outputs": [
    {
     "name": "stdout",
     "output_type": "stream",
     "text": [
      "              precision    recall  f1-score   support\n",
      "\n",
      "           0       0.62      0.66      0.64      1642\n",
      "           1       0.62      0.58      0.60      1576\n",
      "\n",
      "    accuracy                           0.62      3218\n",
      "   macro avg       0.62      0.62      0.62      3218\n",
      "weighted avg       0.62      0.62      0.62      3218\n",
      "\n"
     ]
    }
   ],
   "source": [
    "from sklearn.metrics import accuracy_score,confusion_matrix,classification_report\n",
    "print(classification_report(y_test,predictions))"
   ]
  },
  {
   "cell_type": "code",
   "execution_count": 53,
   "metadata": {
    "id": "9MoHQRGzVUzy"
   },
   "outputs": [
    {
     "name": "stdout",
     "output_type": "stream",
     "text": [
      "INFO:tensorflow:Assets written to: model1\\assets\n"
     ]
    }
   ],
   "source": [
    "model.save('model1')"
   ]
  },
  {
   "cell_type": "code",
   "execution_count": 54,
   "metadata": {
    "id": "yKfSe4X7ea5s"
   },
   "outputs": [],
   "source": [
    "import tensorflow\n",
    "from tensorflow.keras.layers import BatchNormalization"
   ]
  },
  {
   "cell_type": "code",
   "execution_count": 55,
   "metadata": {
    "id": "P8SccXFRep1E"
   },
   "outputs": [],
   "source": [
    "#Create Model2\n",
    "#Change 3 hidden layers, 128,64,32, tanh, batchnormalization\n",
    "model = Sequential()\n",
    "\n",
    "#first hidden layer\n",
    "model.add(Dense(128,activation='relu',input_shape=[9]))\n",
    "model.add(BatchNormalization())\n",
    "model.add(Dropout(0.2))\n",
    "\n",
    "#second hidden layer\n",
    "model.add(Dense(64,activation='tanh'))\n",
    "model.add(BatchNormalization())\n",
    "model.add(Dropout(0.2))\n",
    "\n",
    "#Third hidden layer\n",
    "model.add(Dense(32,activation='relu'))\n",
    "model.add(BatchNormalization())\n",
    "model.add(Dropout(0.2))\n",
    "\n",
    "#output layer\n",
    "model.add(Dense(1,activation='sigmoid'))"
   ]
  },
  {
   "cell_type": "code",
   "execution_count": 56,
   "metadata": {
    "id": "sE3rVLlXgIt5"
   },
   "outputs": [],
   "source": [
    "#compile the model\n",
    "model.compile(loss='binary_crossentropy',optimizer=tensorflow.keras.optimizers.Adam(learning_rate=0.01),metrics=['accuracy'])"
   ]
  },
  {
   "cell_type": "code",
   "execution_count": 57,
   "metadata": {
    "id": "gqdup6GJgoPI"
   },
   "outputs": [],
   "source": [
    "early_stop=EarlyStopping(monitor='accuracy',\n",
    "                         min_delta=0.01,\n",
    "                         mode='min',\n",
    "                         verbose=1,patience=5)"
   ]
  },
  {
   "cell_type": "code",
   "execution_count": 58,
   "metadata": {
    "colab": {
     "base_uri": "https://localhost:8080/"
    },
    "id": "PpE_V9MSiEL4",
    "outputId": "0a4884e1-fc9f-4762-a151-44c69610433a"
   },
   "outputs": [
    {
     "name": "stdout",
     "output_type": "stream",
     "text": [
      "Epoch 1/100\n",
      "51/51 [==============================] - 1s 5ms/step - loss: 0.6770 - accuracy: 0.5971 - val_loss: 0.6566 - val_accuracy: 0.6085\n",
      "Epoch 2/100\n",
      "51/51 [==============================] - 0s 3ms/step - loss: 0.6413 - accuracy: 0.6288 - val_loss: 0.6532 - val_accuracy: 0.6122\n",
      "Epoch 3/100\n",
      "51/51 [==============================] - 0s 3ms/step - loss: 0.6361 - accuracy: 0.6294 - val_loss: 0.6561 - val_accuracy: 0.6041\n",
      "Epoch 4/100\n",
      "51/51 [==============================] - 0s 3ms/step - loss: 0.6324 - accuracy: 0.6342 - val_loss: 0.6488 - val_accuracy: 0.6094\n",
      "Epoch 5/100\n",
      "51/51 [==============================] - 0s 3ms/step - loss: 0.6302 - accuracy: 0.6408 - val_loss: 0.6426 - val_accuracy: 0.6280\n",
      "Epoch 6/100\n",
      "51/51 [==============================] - 0s 3ms/step - loss: 0.6277 - accuracy: 0.6411 - val_loss: 0.6469 - val_accuracy: 0.6249\n",
      "Epoch 7/100\n",
      "51/51 [==============================] - 0s 3ms/step - loss: 0.6254 - accuracy: 0.6429 - val_loss: 0.6386 - val_accuracy: 0.6290\n",
      "Epoch 8/100\n",
      "51/51 [==============================] - 0s 3ms/step - loss: 0.6215 - accuracy: 0.6481 - val_loss: 0.6394 - val_accuracy: 0.6265\n",
      "Epoch 9/100\n",
      "51/51 [==============================] - 0s 3ms/step - loss: 0.6208 - accuracy: 0.6485 - val_loss: 0.6367 - val_accuracy: 0.6333\n",
      "Epoch 10/100\n",
      "51/51 [==============================] - 0s 3ms/step - loss: 0.6161 - accuracy: 0.6541 - val_loss: 0.6304 - val_accuracy: 0.6333\n",
      "Epoch 11/100\n",
      "51/51 [==============================] - 0s 3ms/step - loss: 0.6142 - accuracy: 0.6569 - val_loss: 0.6364 - val_accuracy: 0.6389\n",
      "Epoch 12/100\n",
      "51/51 [==============================] - 0s 3ms/step - loss: 0.6136 - accuracy: 0.6564 - val_loss: 0.6307 - val_accuracy: 0.6370\n",
      "Epoch 13/100\n",
      "51/51 [==============================] - 0s 3ms/step - loss: 0.6105 - accuracy: 0.6630 - val_loss: 0.6221 - val_accuracy: 0.6548\n",
      "Epoch 14/100\n",
      "51/51 [==============================] - 0s 3ms/step - loss: 0.6098 - accuracy: 0.6583 - val_loss: 0.6264 - val_accuracy: 0.6520\n",
      "Epoch 15/100\n",
      "51/51 [==============================] - 0s 3ms/step - loss: 0.6115 - accuracy: 0.6599 - val_loss: 0.6240 - val_accuracy: 0.6548\n",
      "Epoch 16/100\n",
      "51/51 [==============================] - 0s 3ms/step - loss: 0.6075 - accuracy: 0.6642 - val_loss: 0.6222 - val_accuracy: 0.6492\n",
      "Epoch 17/100\n",
      "51/51 [==============================] - 0s 3ms/step - loss: 0.6055 - accuracy: 0.6635 - val_loss: 0.6208 - val_accuracy: 0.6529\n",
      "Epoch 18/100\n",
      "51/51 [==============================] - 0s 3ms/step - loss: 0.6039 - accuracy: 0.6652 - val_loss: 0.6206 - val_accuracy: 0.6451\n",
      "Epoch 19/100\n",
      "51/51 [==============================] - 0s 3ms/step - loss: 0.6043 - accuracy: 0.6675 - val_loss: 0.6363 - val_accuracy: 0.6454\n",
      "Epoch 20/100\n",
      "51/51 [==============================] - 0s 3ms/step - loss: 0.5999 - accuracy: 0.6690 - val_loss: 0.6164 - val_accuracy: 0.6594\n",
      "Epoch 21/100\n",
      "51/51 [==============================] - 0s 3ms/step - loss: 0.6003 - accuracy: 0.6693 - val_loss: 0.6169 - val_accuracy: 0.6504\n",
      "Epoch 22/100\n",
      "51/51 [==============================] - 0s 3ms/step - loss: 0.5998 - accuracy: 0.6696 - val_loss: 0.6126 - val_accuracy: 0.6582\n",
      "Epoch 23/100\n",
      "51/51 [==============================] - 0s 3ms/step - loss: 0.5987 - accuracy: 0.6638 - val_loss: 0.6162 - val_accuracy: 0.6541\n",
      "Epoch 24/100\n",
      "51/51 [==============================] - 0s 3ms/step - loss: 0.5906 - accuracy: 0.6788 - val_loss: 0.6191 - val_accuracy: 0.6554\n",
      "Epoch 25/100\n",
      "51/51 [==============================] - 0s 3ms/step - loss: 0.5952 - accuracy: 0.6778 - val_loss: 0.6135 - val_accuracy: 0.6647\n",
      "Epoch 26/100\n",
      "51/51 [==============================] - 0s 3ms/step - loss: 0.5952 - accuracy: 0.6746 - val_loss: 0.6084 - val_accuracy: 0.6532\n",
      "Epoch 27/100\n",
      "51/51 [==============================] - 0s 4ms/step - loss: 0.5937 - accuracy: 0.6781 - val_loss: 0.5991 - val_accuracy: 0.6759\n",
      "Epoch 28/100\n",
      "51/51 [==============================] - 0s 3ms/step - loss: 0.5932 - accuracy: 0.6763 - val_loss: 0.6114 - val_accuracy: 0.6678\n",
      "Epoch 29/100\n",
      "51/51 [==============================] - 0s 3ms/step - loss: 0.5909 - accuracy: 0.6786 - val_loss: 0.5979 - val_accuracy: 0.6815\n",
      "Epoch 30/100\n",
      "51/51 [==============================] - 0s 3ms/step - loss: 0.5892 - accuracy: 0.6789 - val_loss: 0.6027 - val_accuracy: 0.6725\n",
      "Epoch 31/100\n",
      "51/51 [==============================] - 0s 3ms/step - loss: 0.5895 - accuracy: 0.6789 - val_loss: 0.6048 - val_accuracy: 0.6669\n",
      "Epoch 32/100\n",
      "51/51 [==============================] - 0s 3ms/step - loss: 0.5854 - accuracy: 0.6841 - val_loss: 0.5990 - val_accuracy: 0.6703\n",
      "Epoch 33/100\n",
      "51/51 [==============================] - 0s 3ms/step - loss: 0.5834 - accuracy: 0.6837 - val_loss: 0.6023 - val_accuracy: 0.6728\n",
      "Epoch 34/100\n",
      "51/51 [==============================] - 0s 3ms/step - loss: 0.5827 - accuracy: 0.6864 - val_loss: 0.5980 - val_accuracy: 0.6746\n",
      "Epoch 35/100\n",
      "51/51 [==============================] - 0s 4ms/step - loss: 0.5794 - accuracy: 0.6879 - val_loss: 0.5953 - val_accuracy: 0.6753\n",
      "Epoch 36/100\n",
      "51/51 [==============================] - 0s 3ms/step - loss: 0.5840 - accuracy: 0.6811 - val_loss: 0.5975 - val_accuracy: 0.6706\n",
      "Epoch 37/100\n",
      "51/51 [==============================] - 0s 3ms/step - loss: 0.5819 - accuracy: 0.6875 - val_loss: 0.5912 - val_accuracy: 0.6824\n",
      "Epoch 38/100\n",
      "51/51 [==============================] - 0s 3ms/step - loss: 0.5818 - accuracy: 0.6865 - val_loss: 0.5924 - val_accuracy: 0.6771\n",
      "Epoch 39/100\n",
      "51/51 [==============================] - 0s 3ms/step - loss: 0.5777 - accuracy: 0.6875 - val_loss: 0.6016 - val_accuracy: 0.6653\n",
      "Epoch 40/100\n",
      "51/51 [==============================] - 0s 3ms/step - loss: 0.5824 - accuracy: 0.6877 - val_loss: 0.5929 - val_accuracy: 0.6771\n",
      "Epoch 41/100\n",
      "51/51 [==============================] - 0s 3ms/step - loss: 0.5761 - accuracy: 0.6881 - val_loss: 0.5932 - val_accuracy: 0.6821\n",
      "Epoch 42/100\n",
      "51/51 [==============================] - 0s 3ms/step - loss: 0.5730 - accuracy: 0.6930 - val_loss: 0.5848 - val_accuracy: 0.6911\n",
      "Epoch 43/100\n",
      "51/51 [==============================] - 0s 3ms/step - loss: 0.5749 - accuracy: 0.6920 - val_loss: 0.5928 - val_accuracy: 0.6796\n",
      "Epoch 44/100\n",
      "51/51 [==============================] - 0s 3ms/step - loss: 0.5776 - accuracy: 0.6934 - val_loss: 0.5950 - val_accuracy: 0.6774\n",
      "Epoch 45/100\n",
      "51/51 [==============================] - 0s 3ms/step - loss: 0.5719 - accuracy: 0.6929 - val_loss: 0.5877 - val_accuracy: 0.6855\n",
      "Epoch 46/100\n",
      "51/51 [==============================] - 0s 3ms/step - loss: 0.5735 - accuracy: 0.6939 - val_loss: 0.5825 - val_accuracy: 0.6908\n",
      "Epoch 47/100\n",
      "51/51 [==============================] - 0s 3ms/step - loss: 0.5716 - accuracy: 0.6897 - val_loss: 0.5885 - val_accuracy: 0.6849\n",
      "Epoch 48/100\n",
      "51/51 [==============================] - 0s 3ms/step - loss: 0.5684 - accuracy: 0.6969 - val_loss: 0.5928 - val_accuracy: 0.6703\n",
      "Epoch 49/100\n",
      "51/51 [==============================] - 0s 3ms/step - loss: 0.5744 - accuracy: 0.6975 - val_loss: 0.5925 - val_accuracy: 0.6865\n",
      "Epoch 50/100\n",
      "51/51 [==============================] - 0s 3ms/step - loss: 0.5720 - accuracy: 0.6932 - val_loss: 0.5865 - val_accuracy: 0.6846\n",
      "Epoch 51/100\n",
      "51/51 [==============================] - 0s 3ms/step - loss: 0.5714 - accuracy: 0.6959 - val_loss: 0.5818 - val_accuracy: 0.6886\n",
      "Epoch 52/100\n",
      "51/51 [==============================] - 0s 3ms/step - loss: 0.5663 - accuracy: 0.6987 - val_loss: 0.5847 - val_accuracy: 0.6796\n",
      "Epoch 53/100\n",
      "51/51 [==============================] - 0s 3ms/step - loss: 0.5681 - accuracy: 0.6966 - val_loss: 0.5757 - val_accuracy: 0.6955\n",
      "Epoch 54/100\n",
      "51/51 [==============================] - 0s 3ms/step - loss: 0.5633 - accuracy: 0.6994 - val_loss: 0.5841 - val_accuracy: 0.6920\n",
      "Epoch 55/100\n",
      "51/51 [==============================] - 0s 3ms/step - loss: 0.5676 - accuracy: 0.6959 - val_loss: 0.5840 - val_accuracy: 0.6927\n",
      "Epoch 56/100\n",
      "51/51 [==============================] - 0s 3ms/step - loss: 0.5692 - accuracy: 0.6987 - val_loss: 0.5798 - val_accuracy: 0.6861\n",
      "Epoch 57/100\n",
      "51/51 [==============================] - 0s 3ms/step - loss: 0.5710 - accuracy: 0.6969 - val_loss: 0.5785 - val_accuracy: 0.6976\n",
      "Epoch 58/100\n",
      "51/51 [==============================] - 0s 3ms/step - loss: 0.5680 - accuracy: 0.6931 - val_loss: 0.5771 - val_accuracy: 0.6871\n"
     ]
    },
    {
     "name": "stdout",
     "output_type": "stream",
     "text": [
      "Epoch 59/100\n",
      "51/51 [==============================] - 0s 3ms/step - loss: 0.5636 - accuracy: 0.7018 - val_loss: 0.5741 - val_accuracy: 0.6989\n",
      "Epoch 60/100\n",
      "51/51 [==============================] - 0s 3ms/step - loss: 0.5648 - accuracy: 0.6966 - val_loss: 0.5769 - val_accuracy: 0.6871\n",
      "Epoch 61/100\n",
      "51/51 [==============================] - 0s 3ms/step - loss: 0.5643 - accuracy: 0.7022 - val_loss: 0.5730 - val_accuracy: 0.6892\n",
      "Epoch 62/100\n",
      "51/51 [==============================] - 0s 3ms/step - loss: 0.5601 - accuracy: 0.7032 - val_loss: 0.5780 - val_accuracy: 0.6871\n",
      "Epoch 63/100\n",
      "51/51 [==============================] - 0s 3ms/step - loss: 0.5637 - accuracy: 0.6997 - val_loss: 0.5809 - val_accuracy: 0.6874\n",
      "Epoch 64/100\n",
      "51/51 [==============================] - 0s 3ms/step - loss: 0.5599 - accuracy: 0.7059 - val_loss: 0.5687 - val_accuracy: 0.7017\n",
      "Epoch 65/100\n",
      "51/51 [==============================] - 0s 3ms/step - loss: 0.5628 - accuracy: 0.7005 - val_loss: 0.5766 - val_accuracy: 0.6924\n",
      "Epoch 66/100\n",
      "51/51 [==============================] - 0s 3ms/step - loss: 0.5600 - accuracy: 0.7041 - val_loss: 0.5649 - val_accuracy: 0.7073\n",
      "Epoch 67/100\n",
      "51/51 [==============================] - 0s 3ms/step - loss: 0.5593 - accuracy: 0.7011 - val_loss: 0.5688 - val_accuracy: 0.7063\n",
      "Epoch 68/100\n",
      "51/51 [==============================] - 0s 3ms/step - loss: 0.5578 - accuracy: 0.7067 - val_loss: 0.5678 - val_accuracy: 0.7026\n",
      "Epoch 69/100\n",
      "51/51 [==============================] - 0s 3ms/step - loss: 0.5560 - accuracy: 0.7079 - val_loss: 0.5714 - val_accuracy: 0.6992\n",
      "Epoch 70/100\n",
      "51/51 [==============================] - 0s 3ms/step - loss: 0.5626 - accuracy: 0.7012 - val_loss: 0.5778 - val_accuracy: 0.6964\n",
      "Epoch 71/100\n",
      "51/51 [==============================] - 0s 3ms/step - loss: 0.5626 - accuracy: 0.7038 - val_loss: 0.5750 - val_accuracy: 0.6924\n",
      "Epoch 72/100\n",
      "51/51 [==============================] - 0s 3ms/step - loss: 0.5593 - accuracy: 0.7077 - val_loss: 0.5669 - val_accuracy: 0.6970\n",
      "Epoch 73/100\n",
      "51/51 [==============================] - 0s 3ms/step - loss: 0.5586 - accuracy: 0.7103 - val_loss: 0.5772 - val_accuracy: 0.6812\n",
      "Epoch 74/100\n",
      "51/51 [==============================] - 0s 3ms/step - loss: 0.5597 - accuracy: 0.7046 - val_loss: 0.5781 - val_accuracy: 0.6852\n",
      "Epoch 75/100\n",
      "51/51 [==============================] - 0s 3ms/step - loss: 0.5617 - accuracy: 0.7059 - val_loss: 0.5675 - val_accuracy: 0.7035\n",
      "Epoch 76/100\n",
      "51/51 [==============================] - 0s 3ms/step - loss: 0.5589 - accuracy: 0.7094 - val_loss: 0.5664 - val_accuracy: 0.7070\n",
      "Epoch 77/100\n",
      "51/51 [==============================] - 0s 3ms/step - loss: 0.5562 - accuracy: 0.7077 - val_loss: 0.5720 - val_accuracy: 0.7032\n",
      "Epoch 78/100\n",
      "51/51 [==============================] - 0s 3ms/step - loss: 0.5548 - accuracy: 0.7090 - val_loss: 0.5698 - val_accuracy: 0.7023\n",
      "Epoch 79/100\n",
      "51/51 [==============================] - 0s 3ms/step - loss: 0.5561 - accuracy: 0.7105 - val_loss: 0.5616 - val_accuracy: 0.7032\n",
      "Epoch 80/100\n",
      "51/51 [==============================] - 0s 3ms/step - loss: 0.5519 - accuracy: 0.7105 - val_loss: 0.5637 - val_accuracy: 0.7076\n",
      "Epoch 81/100\n",
      "51/51 [==============================] - 0s 3ms/step - loss: 0.5521 - accuracy: 0.7093 - val_loss: 0.5782 - val_accuracy: 0.6986\n",
      "Epoch 82/100\n",
      "51/51 [==============================] - 0s 3ms/step - loss: 0.5515 - accuracy: 0.7146 - val_loss: 0.5642 - val_accuracy: 0.7107\n",
      "Epoch 83/100\n",
      "51/51 [==============================] - 0s 3ms/step - loss: 0.5557 - accuracy: 0.7117 - val_loss: 0.5680 - val_accuracy: 0.7004\n",
      "Epoch 84/100\n",
      "51/51 [==============================] - 0s 3ms/step - loss: 0.5484 - accuracy: 0.7105 - val_loss: 0.5620 - val_accuracy: 0.7144\n",
      "Epoch 85/100\n",
      "51/51 [==============================] - 0s 3ms/step - loss: 0.5492 - accuracy: 0.7138 - val_loss: 0.5675 - val_accuracy: 0.7001\n",
      "Epoch 86/100\n",
      "51/51 [==============================] - 0s 3ms/step - loss: 0.5479 - accuracy: 0.7195 - val_loss: 0.5604 - val_accuracy: 0.7067\n",
      "Epoch 87/100\n",
      "51/51 [==============================] - 0s 3ms/step - loss: 0.5514 - accuracy: 0.7095 - val_loss: 0.5652 - val_accuracy: 0.7060\n",
      "Epoch 88/100\n",
      "51/51 [==============================] - 0s 3ms/step - loss: 0.5511 - accuracy: 0.7159 - val_loss: 0.5600 - val_accuracy: 0.7119\n",
      "Epoch 89/100\n",
      "51/51 [==============================] - 0s 3ms/step - loss: 0.5523 - accuracy: 0.7112 - val_loss: 0.5682 - val_accuracy: 0.7051\n",
      "Epoch 90/100\n",
      "51/51 [==============================] - 0s 3ms/step - loss: 0.5555 - accuracy: 0.7091 - val_loss: 0.5653 - val_accuracy: 0.7169\n",
      "Epoch 91/100\n",
      "51/51 [==============================] - 0s 3ms/step - loss: 0.5501 - accuracy: 0.7138 - val_loss: 0.5702 - val_accuracy: 0.7079\n",
      "Epoch 92/100\n",
      "51/51 [==============================] - 0s 4ms/step - loss: 0.5508 - accuracy: 0.7119 - val_loss: 0.5636 - val_accuracy: 0.7067\n",
      "Epoch 93/100\n",
      "51/51 [==============================] - 0s 4ms/step - loss: 0.5485 - accuracy: 0.7140 - val_loss: 0.5759 - val_accuracy: 0.6948\n",
      "Epoch 94/100\n",
      "51/51 [==============================] - 0s 3ms/step - loss: 0.5510 - accuracy: 0.7161 - val_loss: 0.5609 - val_accuracy: 0.7091\n",
      "Epoch 95/100\n",
      "51/51 [==============================] - 0s 3ms/step - loss: 0.5507 - accuracy: 0.7182 - val_loss: 0.5571 - val_accuracy: 0.7169\n",
      "Epoch 96/100\n",
      "51/51 [==============================] - 0s 3ms/step - loss: 0.5469 - accuracy: 0.7145 - val_loss: 0.5618 - val_accuracy: 0.7045\n",
      "Epoch 97/100\n",
      "51/51 [==============================] - 0s 3ms/step - loss: 0.5474 - accuracy: 0.7136 - val_loss: 0.5703 - val_accuracy: 0.6933\n",
      "Epoch 98/100\n",
      "51/51 [==============================] - 0s 3ms/step - loss: 0.5467 - accuracy: 0.7155 - val_loss: 0.5612 - val_accuracy: 0.7073\n",
      "Epoch 99/100\n",
      "51/51 [==============================] - 0s 3ms/step - loss: 0.5478 - accuracy: 0.7109 - val_loss: 0.5700 - val_accuracy: 0.7017\n",
      "Epoch 100/100\n",
      "51/51 [==============================] - 0s 3ms/step - loss: 0.5476 - accuracy: 0.7181 - val_loss: 0.5578 - val_accuracy: 0.7166\n"
     ]
    },
    {
     "data": {
      "text/plain": [
       "<keras.callbacks.History at 0x19bc4466bb0>"
      ]
     },
     "execution_count": 58,
     "metadata": {},
     "output_type": "execute_result"
    }
   ],
   "source": [
    "model.fit(X_train,y_train,\n",
    "          epochs=100,\n",
    "          batch_size=256,\n",
    "          validation_data=(X_test,y_test))"
   ]
  },
  {
   "cell_type": "code",
   "execution_count": 59,
   "metadata": {
    "id": "MxWeSxFjicQP"
   },
   "outputs": [
    {
     "name": "stdout",
     "output_type": "stream",
     "text": [
      "101/101 [==============================] - 0s 689us/step\n"
     ]
    }
   ],
   "source": [
    "prediction=(model.predict(X_test)>0.5).astype('int32')"
   ]
  },
  {
   "cell_type": "code",
   "execution_count": 60,
   "metadata": {
    "colab": {
     "base_uri": "https://localhost:8080/"
    },
    "id": "Vl-euPCEjhgO",
    "outputId": "4781a203-b2a7-4ea5-8ada-327b30ff47a7"
   },
   "outputs": [
    {
     "data": {
      "text/plain": [
       "0.7165941578620261"
      ]
     },
     "execution_count": 60,
     "metadata": {},
     "output_type": "execute_result"
    }
   ],
   "source": [
    "from sklearn.metrics import accuracy_score,confusion_matrix,classification_report\n",
    "accuracy_score(y_test,prediction)"
   ]
  },
  {
   "cell_type": "markdown",
   "metadata": {
    "id": "zaZlAyMPpPPs"
   },
   "source": [
    "# Hyperparameter Tuning"
   ]
  },
  {
   "cell_type": "code",
   "execution_count": 52,
   "metadata": {},
   "outputs": [
    {
     "name": "stdout",
     "output_type": "stream",
     "text": [
      "Collecting keras_tuner\n",
      "  Downloading keras_tuner-1.1.3-py3-none-any.whl (135 kB)\n",
      "     -------------------------------------- 135.7/135.7 kB 1.3 MB/s eta 0:00:00\n",
      "Requirement already satisfied: packaging in c:\\users\\asus\\anaconda3\\lib\\site-packages (from keras_tuner) (21.3)\n",
      "Requirement already satisfied: ipython in c:\\users\\asus\\anaconda3\\lib\\site-packages (from keras_tuner) (8.4.0)\n",
      "Collecting kt-legacy\n",
      "  Downloading kt_legacy-1.0.4-py3-none-any.whl (9.6 kB)\n",
      "Requirement already satisfied: numpy in c:\\users\\asus\\anaconda3\\lib\\site-packages (from keras_tuner) (1.21.5)\n",
      "Requirement already satisfied: requests in c:\\users\\asus\\anaconda3\\lib\\site-packages (from keras_tuner) (2.28.1)\n",
      "Requirement already satisfied: tensorboard in c:\\users\\asus\\anaconda3\\lib\\site-packages (from keras_tuner) (2.10.1)\n",
      "Requirement already satisfied: setuptools>=18.5 in c:\\users\\asus\\anaconda3\\lib\\site-packages (from ipython->keras_tuner) (63.4.1)\n",
      "Requirement already satisfied: matplotlib-inline in c:\\users\\asus\\anaconda3\\lib\\site-packages (from ipython->keras_tuner) (0.1.6)\n",
      "Requirement already satisfied: decorator in c:\\users\\asus\\anaconda3\\lib\\site-packages (from ipython->keras_tuner) (5.1.1)\n",
      "Requirement already satisfied: backcall in c:\\users\\asus\\anaconda3\\lib\\site-packages (from ipython->keras_tuner) (0.2.0)\n",
      "Requirement already satisfied: pickleshare in c:\\users\\asus\\anaconda3\\lib\\site-packages (from ipython->keras_tuner) (0.7.5)\n",
      "Requirement already satisfied: traitlets>=5 in c:\\users\\asus\\anaconda3\\lib\\site-packages (from ipython->keras_tuner) (5.1.1)\n",
      "Requirement already satisfied: jedi>=0.16 in c:\\users\\asus\\anaconda3\\lib\\site-packages (from ipython->keras_tuner) (0.18.1)\n",
      "Requirement already satisfied: pygments>=2.4.0 in c:\\users\\asus\\anaconda3\\lib\\site-packages (from ipython->keras_tuner) (2.11.2)\n",
      "Requirement already satisfied: prompt-toolkit!=3.0.0,!=3.0.1,<3.1.0,>=2.0.0 in c:\\users\\asus\\anaconda3\\lib\\site-packages (from ipython->keras_tuner) (3.0.20)\n",
      "Requirement already satisfied: colorama in c:\\users\\asus\\anaconda3\\lib\\site-packages (from ipython->keras_tuner) (0.4.5)\n",
      "Requirement already satisfied: stack-data in c:\\users\\asus\\anaconda3\\lib\\site-packages (from ipython->keras_tuner) (0.2.0)\n",
      "Requirement already satisfied: pyparsing!=3.0.5,>=2.0.2 in c:\\users\\asus\\anaconda3\\lib\\site-packages (from packaging->keras_tuner) (3.0.9)\n",
      "Requirement already satisfied: urllib3<1.27,>=1.21.1 in c:\\users\\asus\\anaconda3\\lib\\site-packages (from requests->keras_tuner) (1.26.11)\n",
      "Requirement already satisfied: charset-normalizer<3,>=2 in c:\\users\\asus\\anaconda3\\lib\\site-packages (from requests->keras_tuner) (2.0.4)\n",
      "Requirement already satisfied: certifi>=2017.4.17 in c:\\users\\asus\\anaconda3\\lib\\site-packages (from requests->keras_tuner) (2022.9.24)\n",
      "Requirement already satisfied: idna<4,>=2.5 in c:\\users\\asus\\anaconda3\\lib\\site-packages (from requests->keras_tuner) (3.3)\n",
      "Requirement already satisfied: wheel>=0.26 in c:\\users\\asus\\anaconda3\\lib\\site-packages (from tensorboard->keras_tuner) (0.37.1)\n",
      "Requirement already satisfied: tensorboard-data-server<0.7.0,>=0.6.0 in c:\\users\\asus\\anaconda3\\lib\\site-packages (from tensorboard->keras_tuner) (0.6.1)\n",
      "Requirement already satisfied: absl-py>=0.4 in c:\\users\\asus\\anaconda3\\lib\\site-packages (from tensorboard->keras_tuner) (1.3.0)\n",
      "Requirement already satisfied: tensorboard-plugin-wit>=1.6.0 in c:\\users\\asus\\anaconda3\\lib\\site-packages (from tensorboard->keras_tuner) (1.8.1)\n",
      "Requirement already satisfied: grpcio>=1.24.3 in c:\\users\\asus\\anaconda3\\lib\\site-packages (from tensorboard->keras_tuner) (1.42.0)\n",
      "Requirement already satisfied: google-auth-oauthlib<0.5,>=0.4.1 in c:\\users\\asus\\anaconda3\\lib\\site-packages (from tensorboard->keras_tuner) (0.4.6)\n",
      "Requirement already satisfied: markdown>=2.6.8 in c:\\users\\asus\\anaconda3\\lib\\site-packages (from tensorboard->keras_tuner) (3.3.4)\n",
      "Requirement already satisfied: google-auth<3,>=1.6.3 in c:\\users\\asus\\anaconda3\\lib\\site-packages (from tensorboard->keras_tuner) (2.6.0)\n",
      "Requirement already satisfied: werkzeug>=1.0.1 in c:\\users\\asus\\anaconda3\\lib\\site-packages (from tensorboard->keras_tuner) (2.0.3)\n",
      "Requirement already satisfied: protobuf<3.20,>=3.9.2 in c:\\users\\asus\\anaconda3\\lib\\site-packages (from tensorboard->keras_tuner) (3.19.6)\n",
      "Requirement already satisfied: cachetools<6.0,>=2.0.0 in c:\\users\\asus\\anaconda3\\lib\\site-packages (from google-auth<3,>=1.6.3->tensorboard->keras_tuner) (4.2.2)\n",
      "Requirement already satisfied: rsa<5,>=3.1.4 in c:\\users\\asus\\anaconda3\\lib\\site-packages (from google-auth<3,>=1.6.3->tensorboard->keras_tuner) (4.7.2)\n",
      "Requirement already satisfied: six>=1.9.0 in c:\\users\\asus\\anaconda3\\lib\\site-packages (from google-auth<3,>=1.6.3->tensorboard->keras_tuner) (1.16.0)\n",
      "Requirement already satisfied: pyasn1-modules>=0.2.1 in c:\\users\\asus\\anaconda3\\lib\\site-packages (from google-auth<3,>=1.6.3->tensorboard->keras_tuner) (0.2.8)\n",
      "Requirement already satisfied: requests-oauthlib>=0.7.0 in c:\\users\\asus\\anaconda3\\lib\\site-packages (from google-auth-oauthlib<0.5,>=0.4.1->tensorboard->keras_tuner) (1.3.1)\n",
      "Requirement already satisfied: parso<0.9.0,>=0.8.0 in c:\\users\\asus\\anaconda3\\lib\\site-packages (from jedi>=0.16->ipython->keras_tuner) (0.8.3)\n",
      "Requirement already satisfied: wcwidth in c:\\users\\asus\\anaconda3\\lib\\site-packages (from prompt-toolkit!=3.0.0,!=3.0.1,<3.1.0,>=2.0.0->ipython->keras_tuner) (0.2.5)\n",
      "Requirement already satisfied: executing in c:\\users\\asus\\anaconda3\\lib\\site-packages (from stack-data->ipython->keras_tuner) (0.8.3)\n",
      "Requirement already satisfied: asttokens in c:\\users\\asus\\anaconda3\\lib\\site-packages (from stack-data->ipython->keras_tuner) (2.0.5)\n",
      "Requirement already satisfied: pure-eval in c:\\users\\asus\\anaconda3\\lib\\site-packages (from stack-data->ipython->keras_tuner) (0.2.2)\n",
      "Requirement already satisfied: pyasn1<0.5.0,>=0.4.6 in c:\\users\\asus\\anaconda3\\lib\\site-packages (from pyasn1-modules>=0.2.1->google-auth<3,>=1.6.3->tensorboard->keras_tuner) (0.4.8)\n",
      "Requirement already satisfied: oauthlib>=3.0.0 in c:\\users\\asus\\anaconda3\\lib\\site-packages (from requests-oauthlib>=0.7.0->google-auth-oauthlib<0.5,>=0.4.1->tensorboard->keras_tuner) (3.2.1)\n",
      "Installing collected packages: kt-legacy, keras_tuner\n",
      "Successfully installed keras_tuner-1.1.3 kt-legacy-1.0.4\n",
      "Note: you may need to restart the kernel to use updated packages.\n"
     ]
    }
   ],
   "source": [
    "pip install keras_tuner"
   ]
  },
  {
   "cell_type": "code",
   "execution_count": 61,
   "metadata": {
    "id": "bhrSAJmhpIDP"
   },
   "outputs": [],
   "source": [
    "def build_model(hp):\n",
    "  model = Sequential()\n",
    " \n",
    "  #first hidden layer\n",
    "  model.add(Dense(units=hp.Int('units',min_value=32, max_value=1024,step=16),\n",
    "                  activation=hp.Choice('activation',['relu','tanh']),input_shape=[9]))\n",
    "  model.add(BatchNormalization())\n",
    "  model.add(Dropout(hp.Float('rate',min_value=0.1,max_value=0.5,step=0.1)))\n",
    "  \n",
    "  #second hidden layer\n",
    "  model.add(Dense(units=hp.Int('units',min_value=32, max_value=1024,step=16),\n",
    "                  activation=hp.Choice('activation',['relu','tanh']),input_shape=[9]))\n",
    "  model.add(BatchNormalization())\n",
    "  model.add(Dropout(hp.Float('rate',min_value=0.1,max_value=0.5,step=0.1)))\n",
    "  \n",
    "  #Third hidden layer\n",
    "  model.add(Dense(units=hp.Int('units',min_value=32, max_value=1024,step=16),\n",
    "                  activation=hp.Choice('activation',['relu','tanh']),input_shape=[9]))\n",
    "  model.add(BatchNormalization())\n",
    "  model.add(Dropout(hp.Float('rate',min_value=0.1,max_value=0.5,step=0.1)))\n",
    "  \n",
    "  #output layer\n",
    "  model.add(Dense(1,activation='sigmoid'))\n",
    "\n",
    "  learning_rate=hp.Float('learning_rate',min_value=0.001,max_value=0.1,step=0.02)\n",
    "\n",
    "  #compile the model\n",
    "  model.compile(loss='binary_crossentropy',\n",
    "                optimizer=tensorflow.keras.optimizers.Adam(learning_rate),\n",
    "                metrics=['accuracy'])\n",
    "  return model"
   ]
  },
  {
   "cell_type": "code",
   "execution_count": 62,
   "metadata": {
    "colab": {
     "base_uri": "https://localhost:8080/"
    },
    "id": "-oME6CsWtpP4",
    "outputId": "884369c7-14c2-4023-efd7-07da71e660ed"
   },
   "outputs": [
    {
     "data": {
      "text/plain": [
       "<keras.engine.sequential.Sequential at 0x19bc43c0c10>"
      ]
     },
     "execution_count": 62,
     "metadata": {},
     "output_type": "execute_result"
    }
   ],
   "source": [
    "import keras_tuner as kt\n",
    "build_model(kt.HyperParameters())"
   ]
  },
  {
   "cell_type": "code",
   "execution_count": 63,
   "metadata": {
    "id": "P54Afx_nuJFI"
   },
   "outputs": [],
   "source": [
    "rtuner=kt.RandomSearch(hypermodel=build_model,\n",
    "                       objective='val_accuracy',\n",
    "                       max_trials=3,\n",
    "                       executions_per_trial=2,\n",
    "                       overwrite=True)"
   ]
  },
  {
   "cell_type": "code",
   "execution_count": 64,
   "metadata": {
    "colab": {
     "base_uri": "https://localhost:8080/"
    },
    "id": "eaWNIOE3uuwz",
    "outputId": "2dc5c196-8ec8-4381-86f8-8d1b7a324137"
   },
   "outputs": [
    {
     "name": "stdout",
     "output_type": "stream",
     "text": [
      "Trial 3 Complete [00h 00m 36s]\n",
      "val_accuracy: 0.5793971419334412\n",
      "\n",
      "Best val_accuracy So Far: 0.5981976389884949\n",
      "Total elapsed time: 00h 01m 42s\n",
      "INFO:tensorflow:Oracle triggered exit\n"
     ]
    }
   ],
   "source": [
    "rtuner.search(X_train,y_train,epochs=4,validation_data=(X_test,y_test))"
   ]
  },
  {
   "cell_type": "markdown",
   "metadata": {
    "id": "irZBQDq8ssoC"
   },
   "source": []
  }
 ],
 "metadata": {
  "colab": {
   "collapsed_sections": [
    "GRwCRBxWTXDV",
    "EBwRXR_3M3j5",
    "zaZlAyMPpPPs"
   ],
   "provenance": []
  },
  "kernelspec": {
   "display_name": "Python 3 (ipykernel)",
   "language": "python",
   "name": "python3"
  },
  "language_info": {
   "codemirror_mode": {
    "name": "ipython",
    "version": 3
   },
   "file_extension": ".py",
   "mimetype": "text/x-python",
   "name": "python",
   "nbconvert_exporter": "python",
   "pygments_lexer": "ipython3",
   "version": "3.9.13"
  }
 },
 "nbformat": 4,
 "nbformat_minor": 1
}
